{
 "cells": [
  {
   "cell_type": "code",
   "execution_count": 1,
   "metadata": {},
   "outputs": [],
   "source": [
    "from sklearn.datasets import load_iris\n",
    "from sklearn.tree import DecisionTreeClassifier"
   ]
  },
  {
   "cell_type": "code",
   "execution_count": 2,
   "metadata": {},
   "outputs": [
    {
     "data": {
      "text/plain": [
       "DecisionTreeClassifier(class_weight=None, criterion='gini', max_depth=2,\n",
       "                       max_features=None, max_leaf_nodes=None,\n",
       "                       min_impurity_decrease=0.0, min_impurity_split=None,\n",
       "                       min_samples_leaf=1, min_samples_split=2,\n",
       "                       min_weight_fraction_leaf=0.0, presort=False,\n",
       "                       random_state=None, splitter='best')"
      ]
     },
     "execution_count": 2,
     "metadata": {},
     "output_type": "execute_result"
    }
   ],
   "source": [
    "iris = load_iris()\n",
    "X = iris.data[:,2:] #petal length and width\n",
    "y = iris.target\n",
    "\n",
    "tree_clf = DecisionTreeClassifier(max_depth=2)\n",
    "tree_clf.fit(X,y)"
   ]
  },
  {
   "cell_type": "code",
   "execution_count": 19,
   "metadata": {},
   "outputs": [
    {
     "data": {
      "text/plain": [
       "array([[1.4, 0.2],\n",
       "       [1.4, 0.2],\n",
       "       [1.3, 0.2],\n",
       "       [1.5, 0.2],\n",
       "       [1.4, 0.2],\n",
       "       [1.7, 0.4],\n",
       "       [1.4, 0.3],\n",
       "       [1.5, 0.2],\n",
       "       [1.4, 0.2],\n",
       "       [1.5, 0.1],\n",
       "       [1.5, 0.2],\n",
       "       [1.6, 0.2],\n",
       "       [1.4, 0.1],\n",
       "       [1.1, 0.1],\n",
       "       [1.2, 0.2],\n",
       "       [1.5, 0.4],\n",
       "       [1.3, 0.4],\n",
       "       [1.4, 0.3],\n",
       "       [1.7, 0.3],\n",
       "       [1.5, 0.3],\n",
       "       [1.7, 0.2],\n",
       "       [1.5, 0.4],\n",
       "       [1. , 0.2],\n",
       "       [1.7, 0.5],\n",
       "       [1.9, 0.2],\n",
       "       [1.6, 0.2],\n",
       "       [1.6, 0.4],\n",
       "       [1.5, 0.2],\n",
       "       [1.4, 0.2],\n",
       "       [1.6, 0.2],\n",
       "       [1.6, 0.2],\n",
       "       [1.5, 0.4],\n",
       "       [1.5, 0.1],\n",
       "       [1.4, 0.2],\n",
       "       [1.5, 0.2],\n",
       "       [1.2, 0.2],\n",
       "       [1.3, 0.2],\n",
       "       [1.4, 0.1],\n",
       "       [1.3, 0.2],\n",
       "       [1.5, 0.2],\n",
       "       [1.3, 0.3],\n",
       "       [1.3, 0.3],\n",
       "       [1.3, 0.2],\n",
       "       [1.6, 0.6],\n",
       "       [1.9, 0.4],\n",
       "       [1.4, 0.3],\n",
       "       [1.6, 0.2],\n",
       "       [1.4, 0.2],\n",
       "       [1.5, 0.2],\n",
       "       [1.4, 0.2],\n",
       "       [4.7, 1.4],\n",
       "       [4.5, 1.5],\n",
       "       [4.9, 1.5],\n",
       "       [4. , 1.3],\n",
       "       [4.6, 1.5],\n",
       "       [4.5, 1.3],\n",
       "       [4.7, 1.6],\n",
       "       [3.3, 1. ],\n",
       "       [4.6, 1.3],\n",
       "       [3.9, 1.4],\n",
       "       [3.5, 1. ],\n",
       "       [4.2, 1.5],\n",
       "       [4. , 1. ],\n",
       "       [4.7, 1.4],\n",
       "       [3.6, 1.3],\n",
       "       [4.4, 1.4],\n",
       "       [4.5, 1.5],\n",
       "       [4.1, 1. ],\n",
       "       [4.5, 1.5],\n",
       "       [3.9, 1.1],\n",
       "       [4.8, 1.8],\n",
       "       [4. , 1.3],\n",
       "       [4.9, 1.5],\n",
       "       [4.7, 1.2],\n",
       "       [4.3, 1.3],\n",
       "       [4.4, 1.4],\n",
       "       [4.8, 1.4],\n",
       "       [5. , 1.7],\n",
       "       [4.5, 1.5],\n",
       "       [3.5, 1. ],\n",
       "       [3.8, 1.1],\n",
       "       [3.7, 1. ],\n",
       "       [3.9, 1.2],\n",
       "       [5.1, 1.6],\n",
       "       [4.5, 1.5],\n",
       "       [4.5, 1.6],\n",
       "       [4.7, 1.5],\n",
       "       [4.4, 1.3],\n",
       "       [4.1, 1.3],\n",
       "       [4. , 1.3],\n",
       "       [4.4, 1.2],\n",
       "       [4.6, 1.4],\n",
       "       [4. , 1.2],\n",
       "       [3.3, 1. ],\n",
       "       [4.2, 1.3],\n",
       "       [4.2, 1.2],\n",
       "       [4.2, 1.3],\n",
       "       [4.3, 1.3],\n",
       "       [3. , 1.1],\n",
       "       [4.1, 1.3],\n",
       "       [6. , 2.5],\n",
       "       [5.1, 1.9],\n",
       "       [5.9, 2.1],\n",
       "       [5.6, 1.8],\n",
       "       [5.8, 2.2],\n",
       "       [6.6, 2.1],\n",
       "       [4.5, 1.7],\n",
       "       [6.3, 1.8],\n",
       "       [5.8, 1.8],\n",
       "       [6.1, 2.5],\n",
       "       [5.1, 2. ],\n",
       "       [5.3, 1.9],\n",
       "       [5.5, 2.1],\n",
       "       [5. , 2. ],\n",
       "       [5.1, 2.4],\n",
       "       [5.3, 2.3],\n",
       "       [5.5, 1.8],\n",
       "       [6.7, 2.2],\n",
       "       [6.9, 2.3],\n",
       "       [5. , 1.5],\n",
       "       [5.7, 2.3],\n",
       "       [4.9, 2. ],\n",
       "       [6.7, 2. ],\n",
       "       [4.9, 1.8],\n",
       "       [5.7, 2.1],\n",
       "       [6. , 1.8],\n",
       "       [4.8, 1.8],\n",
       "       [4.9, 1.8],\n",
       "       [5.6, 2.1],\n",
       "       [5.8, 1.6],\n",
       "       [6.1, 1.9],\n",
       "       [6.4, 2. ],\n",
       "       [5.6, 2.2],\n",
       "       [5.1, 1.5],\n",
       "       [5.6, 1.4],\n",
       "       [6.1, 2.3],\n",
       "       [5.6, 2.4],\n",
       "       [5.5, 1.8],\n",
       "       [4.8, 1.8],\n",
       "       [5.4, 2.1],\n",
       "       [5.6, 2.4],\n",
       "       [5.1, 2.3],\n",
       "       [5.1, 1.9],\n",
       "       [5.9, 2.3],\n",
       "       [5.7, 2.5],\n",
       "       [5.2, 2.3],\n",
       "       [5. , 1.9],\n",
       "       [5.2, 2. ],\n",
       "       [5.4, 2.3],\n",
       "       [5.1, 1.8]])"
      ]
     },
     "execution_count": 19,
     "metadata": {},
     "output_type": "execute_result"
    }
   ],
   "source": [
    "X"
   ]
  },
  {
   "cell_type": "code",
   "execution_count": 3,
   "metadata": {},
   "outputs": [
    {
     "data": {
      "text/plain": [
       "'/Volumes/lin/MachineLearning/hjkh'"
      ]
     },
     "execution_count": 3,
     "metadata": {},
     "output_type": "execute_result"
    }
   ],
   "source": [
    "import os\n",
    "os.getcwd()+\"/hjkh\"\n",
    "#open(os.getcwd()+\"/iris_tree.dot\", 'w')"
   ]
  },
  {
   "cell_type": "code",
   "execution_count": 11,
   "metadata": {},
   "outputs": [],
   "source": [
    "from sklearn.tree import export_graphviz\n",
    "\n",
    "path = os.getcwd()+\"/\"\n",
    "export_graphviz(\n",
    "    tree_clf,\n",
    "    out_file=\".iris_tree.dot\",\n",
    "    feature_names=iris.feature_names[2:],\n",
    "    class_names=iris.target_names,\n",
    "    rounded=True,\n",
    "    filled=True\n",
    ")"
   ]
  },
  {
   "cell_type": "code",
   "execution_count": 16,
   "metadata": {},
   "outputs": [
    {
     "ename": "SyntaxError",
     "evalue": "invalid syntax (<ipython-input-16-7bda9265f286>, line 1)",
     "output_type": "error",
     "traceback": [
      "\u001b[0;36m  File \u001b[0;32m\"<ipython-input-16-7bda9265f286>\"\u001b[0;36m, line \u001b[0;32m1\u001b[0m\n\u001b[0;31m    dot -Tpng iris_tree -o iris_tree.png\u001b[0m\n\u001b[0m                      ^\u001b[0m\n\u001b[0;31mSyntaxError\u001b[0m\u001b[0;31m:\u001b[0m invalid syntax\n"
     ]
    }
   ],
   "source": [
    "#dot -Tpng iris_tree.dot -o iris_tree.png\n",
    "#to run graphviz from cmd line"
   ]
  },
  {
   "cell_type": "code",
   "execution_count": null,
   "metadata": {},
   "outputs": [],
   "source": [
    "#EXERCISE 7"
   ]
  },
  {
   "cell_type": "code",
   "execution_count": 59,
   "metadata": {},
   "outputs": [],
   "source": [
    "import numpy as np"
   ]
  },
  {
   "cell_type": "code",
   "execution_count": 20,
   "metadata": {},
   "outputs": [],
   "source": [
    "from sklearn.datasets import make_moons\n",
    "\n",
    "X, y = make_moons(n_samples=10000, noise=0.4, random_state=42)"
   ]
  },
  {
   "cell_type": "code",
   "execution_count": 21,
   "metadata": {},
   "outputs": [],
   "source": [
    "from sklearn.model_selection import train_test_split\n",
    "\n",
    "X_train, X_test, y_train, y_test = train_test_split(X, y, test_size=0.2, random_state=42)"
   ]
  },
  {
   "cell_type": "code",
   "execution_count": 22,
   "metadata": {},
   "outputs": [],
   "source": [
    "from sklearn.model_selection import GridSearchCV\n",
    "\n",
    "params = {'max_leaf_nodes': list(range(2, 100)), 'min_samples_split': [2, 3, 4]}\n",
    "grid_search_cv = GridSearchCV(DecisionTreeClassifier(random_state=42), params, \n",
    "                              n_jobs=-1, verbose=1, cv=3\n",
    "                             ,refit=False)"
   ]
  },
  {
   "cell_type": "code",
   "execution_count": null,
   "metadata": {},
   "outputs": [],
   "source": [
    "grid_search_cv.fit(X_train, y_train)"
   ]
  },
  {
   "cell_type": "code",
   "execution_count": null,
   "metadata": {},
   "outputs": [],
   "source": [
    "grid_search_cv.best_estimator_"
   ]
  },
  {
   "cell_type": "code",
   "execution_count": null,
   "metadata": {},
   "outputs": [],
   "source": [
    "from sklearn.metrics import accuracy_score\n",
    "\n",
    "y_pred = grid_search_cv.predict(X_test)\n",
    "accuracy_score(y_test, y_pred)"
   ]
  },
  {
   "cell_type": "code",
   "execution_count": null,
   "metadata": {},
   "outputs": [],
   "source": [
    "#EXERCISE 8"
   ]
  },
  {
   "cell_type": "code",
   "execution_count": 23,
   "metadata": {},
   "outputs": [],
   "source": [
    "from sklearn.model_selection import ShuffleSplit\n",
    "\n",
    "n_trees = 1000\n",
    "n_instances = 100\n",
    "\n",
    "mini_sets = []\n",
    "\n",
    "rs = ShuffleSplit(n_splits=n_trees, test_size=len(X_train) - n_instances, random_state=42)\n",
    "for mini_train_index, mini_test_index in rs.split(X_train):\n",
    "    X_mini_train = X_train[mini_train_index]\n",
    "    y_mini_train = y_train[mini_train_index]\n",
    "    mini_sets.append((X_mini_train, y_mini_train))"
   ]
  },
  {
   "cell_type": "code",
   "execution_count": 62,
   "metadata": {},
   "outputs": [
    {
     "name": "stdout",
     "output_type": "stream",
     "text": [
      "1000\n",
      "2\n",
      "<class 'list'>\n"
     ]
    }
   ],
   "source": [
    "print(len(mini_sets)) #number of rows\n",
    "print(len(mini_sets[1])) #number of columns\n",
    "print(type(mini_sets))"
   ]
  },
  {
   "cell_type": "code",
   "execution_count": 91,
   "metadata": {
    "collapsed": true
   },
   "outputs": [
    {
     "data": {
      "text/plain": [
       "(array([[-3.15325488e-01,  4.94322659e-01],\n",
       "        [ 1.07395888e+00, -3.83006874e-01],\n",
       "        [ 1.23368080e+00, -2.02727544e-01],\n",
       "        [ 1.45327595e+00, -4.97650493e-01],\n",
       "        [ 6.29403125e-01, -4.58057181e-01],\n",
       "        [ 1.31621613e+00, -4.96340629e-01],\n",
       "        [ 6.61605020e-01, -5.25120656e-01],\n",
       "        [ 1.17772151e+00,  2.12896730e-01],\n",
       "        [ 1.27074026e+00,  8.37618484e-01],\n",
       "        [ 2.40777741e-01, -4.05280317e-01],\n",
       "        [ 2.09601211e+00,  2.29976411e-01],\n",
       "        [ 3.96488095e-01, -3.07170096e-01],\n",
       "        [-7.76673348e-01,  1.98996929e-01],\n",
       "        [-8.88960092e-01,  1.06022488e+00],\n",
       "        [ 1.21458297e+00, -3.55536724e-01],\n",
       "        [ 1.72720880e+00,  3.94406303e-01],\n",
       "        [ 1.96647532e+00,  2.91551342e-01],\n",
       "        [-2.00602385e-01,  4.62530417e-02],\n",
       "        [-1.19424550e+00,  1.64842526e-01],\n",
       "        [-2.98171028e-01,  4.07082497e-01],\n",
       "        [ 2.07327094e+00,  2.02547469e-02],\n",
       "        [-7.43875589e-01,  1.01769167e+00],\n",
       "        [-1.03747473e+00,  4.29814010e-01],\n",
       "        [ 2.61931852e-01, -6.59640221e-01],\n",
       "        [ 7.02237573e-01,  8.06534609e-03],\n",
       "        [ 8.32697302e-01,  1.18935535e+00],\n",
       "        [ 5.46970196e-01,  3.64714424e-01],\n",
       "        [ 1.89284709e+00,  5.59421537e-01],\n",
       "        [ 7.44544546e-01, -9.72191890e-02],\n",
       "        [ 2.94276927e-01,  4.87137283e-01],\n",
       "        [ 1.17299588e+00,  5.05733709e-02],\n",
       "        [-2.87695058e-02,  5.41174510e-01],\n",
       "        [-1.40215131e-01,  9.92300031e-01],\n",
       "        [ 9.56158102e-03,  8.72566891e-01],\n",
       "        [ 7.74414869e-01,  1.24415002e+00],\n",
       "        [ 1.65780603e+00,  2.04296332e-01],\n",
       "        [ 2.18017875e+00, -8.44619136e-01],\n",
       "        [ 2.20986329e-01,  5.20501837e-01],\n",
       "        [ 1.28809265e+00, -4.15686932e-01],\n",
       "        [ 3.09423886e-01,  1.33795470e+00],\n",
       "        [ 1.67825875e+00, -7.64540067e-01],\n",
       "        [ 5.01771608e-01,  6.42049417e-01],\n",
       "        [ 2.06110758e+00, -1.72827728e-01],\n",
       "        [-1.25123884e-02, -1.82801604e-01],\n",
       "        [ 5.28307304e-02,  7.48672303e-01],\n",
       "        [ 1.89059944e+00, -3.80070760e-01],\n",
       "        [-1.92926475e-01,  6.10777382e-01],\n",
       "        [ 6.24481066e-01,  2.71299104e-01],\n",
       "        [ 9.60093362e-02,  6.71495944e-01],\n",
       "        [ 1.65730558e+00, -1.77409168e-01],\n",
       "        [-2.59224234e-01,  1.38506459e+00],\n",
       "        [ 1.65137375e-01,  8.28955068e-02],\n",
       "        [ 9.24368103e-01,  1.41716663e-02],\n",
       "        [ 6.73156036e-01, -2.75064670e-01],\n",
       "        [ 2.19889375e+00, -2.83535530e-01],\n",
       "        [ 8.70847016e-01, -8.55151467e-01],\n",
       "        [ 2.39352752e+00,  8.92231677e-02],\n",
       "        [-7.34810452e-01,  1.90083642e+00],\n",
       "        [ 9.40190157e-01, -5.61101152e-01],\n",
       "        [ 1.70674133e+00,  2.90936193e-01],\n",
       "        [-2.94282695e-01,  5.24054984e-01],\n",
       "        [ 1.02281588e+00,  1.56475947e-01],\n",
       "        [-2.59680632e-01,  3.97306767e-01],\n",
       "        [-1.07808018e+00, -6.81512232e-01],\n",
       "        [ 1.89403269e-01,  2.75416134e-01],\n",
       "        [-8.96945676e-01,  9.57698422e-01],\n",
       "        [ 8.02160592e-01,  2.68907881e-01],\n",
       "        [-9.89915304e-01,  9.86953524e-01],\n",
       "        [ 3.97280645e-01,  5.33071484e-01],\n",
       "        [ 9.14099240e-01,  5.92098175e-01],\n",
       "        [ 4.01089150e-02, -2.87567631e-01],\n",
       "        [-6.77410393e-01,  1.24897977e-02],\n",
       "        [ 3.30494288e-01,  1.36161474e+00],\n",
       "        [ 1.64605788e+00, -5.78155449e-01],\n",
       "        [ 1.89215583e+00, -7.65900412e-01],\n",
       "        [ 1.37222880e+00,  8.78673670e-01],\n",
       "        [ 1.01826006e+00, -1.61891947e-01],\n",
       "        [-5.42250252e-01,  4.30021456e-01],\n",
       "        [-7.60647856e-01, -6.89919618e-01],\n",
       "        [ 8.14465239e-01,  1.54011197e+00],\n",
       "        [ 1.89537653e+00,  1.35308688e-01],\n",
       "        [ 1.18286044e-01,  1.61650287e+00],\n",
       "        [ 1.80699884e+00,  5.63951791e-01],\n",
       "        [-6.60309982e-02,  7.68024096e-01],\n",
       "        [-1.04042639e-01, -2.68624497e-03],\n",
       "        [ 1.15076647e+00,  3.16067296e-01],\n",
       "        [-4.77183632e-01, -2.79036413e-01],\n",
       "        [ 4.28276441e-01,  3.61092834e-01],\n",
       "        [ 1.17155019e-01,  1.44480041e+00],\n",
       "        [ 5.30820567e-01, -1.35817509e-01],\n",
       "        [ 3.20277720e+00,  4.98370510e-01],\n",
       "        [ 2.06493682e+00,  2.87733060e-01],\n",
       "        [ 9.10646871e-02,  1.00661489e+00],\n",
       "        [-6.36746899e-01,  5.09260192e-01],\n",
       "        [-1.08385322e+00,  3.75141003e-01],\n",
       "        [ 1.36400518e+00,  5.98976767e-01],\n",
       "        [ 1.37937432e+00, -3.28847737e-01],\n",
       "        [-1.05424369e+00, -2.67956019e-02],\n",
       "        [ 1.71526884e+00,  6.33650704e-02],\n",
       "        [ 2.39371328e+00,  4.21023924e-02]]),\n",
       " array([1, 1, 0, 1, 1, 1, 1, 1, 1, 1, 1, 1, 0, 0, 1, 1, 1, 0, 0, 1, 1, 0,\n",
       "        0, 1, 0, 0, 0, 1, 1, 1, 0, 0, 0, 0, 0, 1, 1, 1, 1, 0, 1, 0, 1, 1,\n",
       "        0, 1, 0, 0, 0, 1, 0, 0, 1, 1, 1, 1, 1, 0, 0, 1, 0, 0, 0, 0, 1, 0,\n",
       "        0, 0, 0, 0, 1, 1, 0, 1, 1, 1, 1, 0, 1, 0, 1, 0, 1, 0, 1, 0, 0, 1,\n",
       "        0, 1, 1, 1, 0, 0, 0, 0, 1, 0, 1, 1]))"
      ]
     },
     "execution_count": 91,
     "metadata": {},
     "output_type": "execute_result"
    }
   ],
   "source": [
    "mini_sets[0][:2] # mini_sets[0][:2] == mini_sets[0]"
   ]
  },
  {
   "cell_type": "code",
   "execution_count": 27,
   "metadata": {
    "collapsed": true
   },
   "outputs": [
    {
     "data": {
      "text/plain": [
       "8000"
      ]
     },
     "execution_count": 27,
     "metadata": {},
     "output_type": "execute_result"
    }
   ],
   "source": [
    "len(X_train)"
   ]
  },
  {
   "cell_type": "code",
   "execution_count": 30,
   "metadata": {},
   "outputs": [
    {
     "data": {
      "text/plain": [
       "7900"
      ]
     },
     "execution_count": 30,
     "metadata": {},
     "output_type": "execute_result"
    }
   ],
   "source": [
    "rs.test_size"
   ]
  },
  {
   "cell_type": "code",
   "execution_count": 31,
   "metadata": {},
   "outputs": [
    {
     "data": {
      "text/plain": [
       "100"
      ]
     },
     "execution_count": 31,
     "metadata": {},
     "output_type": "execute_result"
    }
   ],
   "source": [
    "len(mini_train_index)"
   ]
  },
  {
   "cell_type": "code",
   "execution_count": 32,
   "metadata": {},
   "outputs": [
    {
     "data": {
      "text/plain": [
       "7900"
      ]
     },
     "execution_count": 32,
     "metadata": {},
     "output_type": "execute_result"
    }
   ],
   "source": [
    "len(mini_test_index)"
   ]
  },
  {
   "cell_type": "code",
   "execution_count": 33,
   "metadata": {},
   "outputs": [
    {
     "data": {
      "text/plain": [
       "array([2413, 2772, 7346, 7577,  933, 1774, 7913, 1448, 5761, 2705, 4908,\n",
       "        553,  202, 1925, 4227, 6444, 1016, 2537, 4417, 1182,  612,  830,\n",
       "       7843, 2288, 3061,  606, 7307, 1972, 6139, 2316, 5323, 5281, 5672,\n",
       "        866, 5215, 4800, 4761, 6063, 7472, 2578, 4366, 1508, 7023, 2550,\n",
       "       5623, 6071, 7021,  454, 7640, 4700, 1224, 6214, 3036, 7769,  484,\n",
       "       5408,  591, 6985, 3085, 2466, 7734, 4378, 3361, 7397, 4182, 5476,\n",
       "       6557, 3762, 3348, 4732, 5028, 7064, 7003, 4497, 3296, 4998, 2714,\n",
       "       5758, 5815, 7062, 5910, 5166, 5102, 6384,  611, 4035,  231, 1282,\n",
       "       2709, 5302, 5909, 6870, 4400, 2377, 1750, 7156, 6526, 4887, 2999,\n",
       "       3487])"
      ]
     },
     "execution_count": 33,
     "metadata": {},
     "output_type": "execute_result"
    }
   ],
   "source": [
    "mini_train_index"
   ]
  },
  {
   "cell_type": "code",
   "execution_count": null,
   "metadata": {},
   "outputs": [],
   "source": []
  }
 ],
 "metadata": {
  "kernelspec": {
   "display_name": "Python 3",
   "language": "python",
   "name": "python3"
  },
  "language_info": {
   "codemirror_mode": {
    "name": "ipython",
    "version": 3
   },
   "file_extension": ".py",
   "mimetype": "text/x-python",
   "name": "python",
   "nbconvert_exporter": "python",
   "pygments_lexer": "ipython3",
   "version": "3.7.4"
  }
 },
 "nbformat": 4,
 "nbformat_minor": 2
}
