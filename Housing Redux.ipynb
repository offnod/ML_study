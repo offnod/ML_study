{
 "cells": [
  {
   "cell_type": "code",
   "execution_count": null,
   "metadata": {},
   "outputs": [],
   "source": []
  },
  {
   "cell_type": "code",
   "execution_count": 2,
   "metadata": {},
   "outputs": [],
   "source": [
    "import os\n",
    "import tarfile\n",
    "from six.moves import urllib\n",
    "\n",
    "import matplotlib.pyplot as plt\n",
    "\n",
    "HOUSING_PATH = os.path.join(\"datasets\", \"housing\")"
   ]
  },
  {
   "cell_type": "code",
   "execution_count": 3,
   "metadata": {},
   "outputs": [],
   "source": [
    "import pandas as pd\n",
    "\n",
    "def load_housing_data(housing_path=HOUSING_PATH):\n",
    "    csv_path = os.path.join(housing_path, \"housing.csv\")\n",
    "    return pd.read_csv(csv_path)"
   ]
  },
  {
   "cell_type": "code",
   "execution_count": 4,
   "metadata": {},
   "outputs": [],
   "source": [
    "housing = load_housing_data()"
   ]
  },
  {
   "cell_type": "code",
   "execution_count": 5,
   "metadata": {},
   "outputs": [],
   "source": [
    "import numpy as np"
   ]
  },
  {
   "cell_type": "code",
   "execution_count": 6,
   "metadata": {},
   "outputs": [],
   "source": [
    "housing_with_id = housing.reset_index() #adds an 'index' column"
   ]
  },
  {
   "cell_type": "code",
   "execution_count": 7,
   "metadata": {},
   "outputs": [
    {
     "data": {
      "text/plain": [
       "<matplotlib.axes._subplots.AxesSubplot at 0x1135320d0>"
      ]
     },
     "execution_count": 7,
     "metadata": {},
     "output_type": "execute_result"
    },
    {
     "data": {
      "image/png": "[encoded data removed]",
      "text/plain": [
       "<Figure size 432x288 with 1 Axes>"
      ]
     },
     "metadata": {
      "needs_background": "light"
     },
     "output_type": "display_data"
    }
   ],
   "source": [
    "housing[\"income_cat\"] = pd.cut(housing[\"median_income\"],\n",
    "                              bins=[0., 1.5, 3.0, 4.5, 6., np.inf], #the hell is this\n",
    "                              labels=[1, 2, 3, 4, 5])\n",
    "housing[\"income_cat\"].hist()"
   ]
  },
  {
   "cell_type": "code",
   "execution_count": 8,
   "metadata": {},
   "outputs": [],
   "source": [
    "from sklearn.model_selection import StratifiedShuffleSplit\n",
    "\n",
    "split = StratifiedShuffleSplit(n_splits=1, test_size=0.2, random_state=42)\n",
    "for train_index, test_index in split.split(housing, housing[\"income_cat\"]):                               \n",
    "    strat_train_set = housing.iloc[train_index]\n",
    "    strat_test_set = housing.iloc[test_index]"
   ]
  },
  {
   "cell_type": "code",
   "execution_count": 9,
   "metadata": {},
   "outputs": [],
   "source": [
    "for set_ in (strat_train_set, strat_test_set):\n",
    "    set_.drop(\"income_cat\", axis=1, inplace=True)"
   ]
  },
  {
   "cell_type": "code",
   "execution_count": 10,
   "metadata": {},
   "outputs": [],
   "source": [
    "housing = strat_train_set.drop(\"median_house_value\",axis=1) #creates a copy\n",
    "housing_labels = strat_train_set[\"median_house_value\"].copy()"
   ]
  },
  {
   "cell_type": "code",
   "execution_count": 11,
   "metadata": {},
   "outputs": [
    {
     "data": {
      "text/html": [
       "<div>\n",
       "<style scoped>\n",
       "    .dataframe tbody tr th:only-of-type {\n",
       "        vertical-align: middle;\n",
       "    }\n",
       "\n",
       "    .dataframe tbody tr th {\n",
       "        vertical-align: top;\n",
       "    }\n",
       "\n",
       "    .dataframe thead th {\n",
       "        text-align: right;\n",
       "    }\n",
       "</style>\n",
       "<table border=\"1\" class=\"dataframe\">\n",
       "  <thead>\n",
       "    <tr style=\"text-align: right;\">\n",
       "      <th></th>\n",
       "      <th>longitude</th>\n",
       "      <th>latitude</th>\n",
       "      <th>housing_median_age</th>\n",
       "      <th>total_rooms</th>\n",
       "      <th>total_bedrooms</th>\n",
       "      <th>population</th>\n",
       "      <th>households</th>\n",
       "      <th>median_income</th>\n",
       "      <th>ocean_proximity</th>\n",
       "    </tr>\n",
       "  </thead>\n",
       "  <tbody>\n",
       "    <tr>\n",
       "      <th>17606</th>\n",
       "      <td>-121.89</td>\n",
       "      <td>37.29</td>\n",
       "      <td>38.0</td>\n",
       "      <td>1568.0</td>\n",
       "      <td>351.0</td>\n",
       "      <td>710.0</td>\n",
       "      <td>339.0</td>\n",
       "      <td>2.7042</td>\n",
       "      <td>&lt;1H OCEAN</td>\n",
       "    </tr>\n",
       "    <tr>\n",
       "      <th>18632</th>\n",
       "      <td>-121.93</td>\n",
       "      <td>37.05</td>\n",
       "      <td>14.0</td>\n",
       "      <td>679.0</td>\n",
       "      <td>108.0</td>\n",
       "      <td>306.0</td>\n",
       "      <td>113.0</td>\n",
       "      <td>6.4214</td>\n",
       "      <td>&lt;1H OCEAN</td>\n",
       "    </tr>\n",
       "    <tr>\n",
       "      <th>14650</th>\n",
       "      <td>-117.20</td>\n",
       "      <td>32.77</td>\n",
       "      <td>31.0</td>\n",
       "      <td>1952.0</td>\n",
       "      <td>471.0</td>\n",
       "      <td>936.0</td>\n",
       "      <td>462.0</td>\n",
       "      <td>2.8621</td>\n",
       "      <td>NEAR OCEAN</td>\n",
       "    </tr>\n",
       "    <tr>\n",
       "      <th>3230</th>\n",
       "      <td>-119.61</td>\n",
       "      <td>36.31</td>\n",
       "      <td>25.0</td>\n",
       "      <td>1847.0</td>\n",
       "      <td>371.0</td>\n",
       "      <td>1460.0</td>\n",
       "      <td>353.0</td>\n",
       "      <td>1.8839</td>\n",
       "      <td>INLAND</td>\n",
       "    </tr>\n",
       "    <tr>\n",
       "      <th>3555</th>\n",
       "      <td>-118.59</td>\n",
       "      <td>34.23</td>\n",
       "      <td>17.0</td>\n",
       "      <td>6592.0</td>\n",
       "      <td>1525.0</td>\n",
       "      <td>4459.0</td>\n",
       "      <td>1463.0</td>\n",
       "      <td>3.0347</td>\n",
       "      <td>&lt;1H OCEAN</td>\n",
       "    </tr>\n",
       "  </tbody>\n",
       "</table>\n",
       "</div>"
      ],
      "text/plain": [
       "       longitude  latitude  housing_median_age  total_rooms  total_bedrooms  \\\n",
       "17606    -121.89     37.29                38.0       1568.0           351.0   \n",
       "18632    -121.93     37.05                14.0        679.0           108.0   \n",
       "14650    -117.20     32.77                31.0       1952.0           471.0   \n",
       "3230     -119.61     36.31                25.0       1847.0           371.0   \n",
       "3555     -118.59     34.23                17.0       6592.0          1525.0   \n",
       "\n",
       "       population  households  median_income ocean_proximity  \n",
       "17606       710.0       339.0         2.7042       <1H OCEAN  \n",
       "18632       306.0       113.0         6.4214       <1H OCEAN  \n",
       "14650       936.0       462.0         2.8621      NEAR OCEAN  \n",
       "3230       1460.0       353.0         1.8839          INLAND  \n",
       "3555       4459.0      1463.0         3.0347       <1H OCEAN  "
      ]
     },
     "execution_count": 11,
     "metadata": {},
     "output_type": "execute_result"
    }
   ],
   "source": [
    "housing.head()"
   ]
  },
  {
   "cell_type": "code",
   "execution_count": 13,
   "metadata": {},
   "outputs": [
    {
     "data": {
      "text/plain": [
       "(16512,)"
      ]
     },
     "execution_count": 13,
     "metadata": {},
     "output_type": "execute_result"
    }
   ],
   "source": [
    "housing_labels.shape"
   ]
  },
  {
   "cell_type": "code",
   "execution_count": 11,
   "metadata": {},
   "outputs": [],
   "source": [
    "from pandas.plotting import scatter_matrix"
   ]
  },
  {
   "cell_type": "code",
   "execution_count": 12,
   "metadata": {},
   "outputs": [],
   "source": [
    "from sklearn.impute import SimpleImputer\n",
    "\n",
    "imputer = SimpleImputer(strategy=\"median\")"
   ]
  },
  {
   "cell_type": "code",
   "execution_count": 13,
   "metadata": {},
   "outputs": [],
   "source": [
    "housing_cat=housing[[\"ocean_proximity\"]]"
   ]
  },
  {
   "cell_type": "code",
   "execution_count": 14,
   "metadata": {},
   "outputs": [
    {
     "data": {
      "text/plain": [
       "<16512x5 sparse matrix of type '<class 'numpy.float64'>'\n",
       "\twith 16512 stored elements in Compressed Sparse Row format>"
      ]
     },
     "execution_count": 14,
     "metadata": {},
     "output_type": "execute_result"
    }
   ],
   "source": [
    "from sklearn.preprocessing import OneHotEncoder\n",
    "\n",
    "cat_encoder = OneHotEncoder()\n",
    "housing_cat_1hot = cat_encoder.fit_transform(housing_cat)\n",
    "housing_cat_1hot"
   ]
  },
  {
   "cell_type": "code",
   "execution_count": 15,
   "metadata": {},
   "outputs": [],
   "source": [
    "from sklearn.base import BaseEstimator, TransformerMixin\n",
    "rooms_ix, bedrooms_ix, population_ix, households_ix = 3,4,5,6\n",
    "\n",
    "class CombinedAttributesAdder(BaseEstimator, TransformerMixin):\n",
    "    def __init__(self, add_bedrooms_per_room = True):#no *args or **kargs\n",
    "        self.add_bedrooms_per_room = add_bedrooms_per_room\n",
    "    def fit(self, X, y=None):\n",
    "        return self#nothing to do\n",
    "    def transform(self, X, y=None): #why is there a y=None\n",
    "        rooms_per_household = X[:, rooms_ix] / X[:, households_ix]\n",
    "        population_per_household = X[:, population_ix] / X[:, households_ix]\n",
    "        if self.add_bedrooms_per_room:\n",
    "            bedrooms_per_room = X[:, bedrooms_ix] / X[:, rooms_ix]\n",
    "            return np.c_[X, rooms_per_household, population_per_household, bedrooms_per_room]\n",
    "        else:\n",
    "            return np.c_[X, rooms_per_household, population_per_household]\n",
    "        \n",
    "attr_adder = CombinedAttributesAdder(add_bedrooms_per_room=False)#why doesn't True work\n",
    "housing_extra_attribs = attr_adder.transform(housing.values)"
   ]
  },
  {
   "cell_type": "code",
   "execution_count": 16,
   "metadata": {},
   "outputs": [
    {
     "data": {
      "text/html": [
       "<div>\n",
       "<style scoped>\n",
       "    .dataframe tbody tr th:only-of-type {\n",
       "        vertical-align: middle;\n",
       "    }\n",
       "\n",
       "    .dataframe tbody tr th {\n",
       "        vertical-align: top;\n",
       "    }\n",
       "\n",
       "    .dataframe thead th {\n",
       "        text-align: right;\n",
       "    }\n",
       "</style>\n",
       "<table border=\"1\" class=\"dataframe\">\n",
       "  <thead>\n",
       "    <tr style=\"text-align: right;\">\n",
       "      <th></th>\n",
       "      <th>longitude</th>\n",
       "      <th>latitude</th>\n",
       "      <th>housing_median_age</th>\n",
       "      <th>total_rooms</th>\n",
       "      <th>total_bedrooms</th>\n",
       "      <th>population</th>\n",
       "      <th>households</th>\n",
       "      <th>median_income</th>\n",
       "      <th>ocean_proximity</th>\n",
       "      <th>rooms_per_household</th>\n",
       "      <th>population_per_household</th>\n",
       "    </tr>\n",
       "  </thead>\n",
       "  <tbody>\n",
       "    <tr>\n",
       "      <th>17606</th>\n",
       "      <td>-121.89</td>\n",
       "      <td>37.29</td>\n",
       "      <td>38</td>\n",
       "      <td>1568</td>\n",
       "      <td>351</td>\n",
       "      <td>710</td>\n",
       "      <td>339</td>\n",
       "      <td>2.7042</td>\n",
       "      <td>&lt;1H OCEAN</td>\n",
       "      <td>4.62537</td>\n",
       "      <td>2.0944</td>\n",
       "    </tr>\n",
       "    <tr>\n",
       "      <th>18632</th>\n",
       "      <td>-121.93</td>\n",
       "      <td>37.05</td>\n",
       "      <td>14</td>\n",
       "      <td>679</td>\n",
       "      <td>108</td>\n",
       "      <td>306</td>\n",
       "      <td>113</td>\n",
       "      <td>6.4214</td>\n",
       "      <td>&lt;1H OCEAN</td>\n",
       "      <td>6.00885</td>\n",
       "      <td>2.70796</td>\n",
       "    </tr>\n",
       "    <tr>\n",
       "      <th>14650</th>\n",
       "      <td>-117.2</td>\n",
       "      <td>32.77</td>\n",
       "      <td>31</td>\n",
       "      <td>1952</td>\n",
       "      <td>471</td>\n",
       "      <td>936</td>\n",
       "      <td>462</td>\n",
       "      <td>2.8621</td>\n",
       "      <td>NEAR OCEAN</td>\n",
       "      <td>4.22511</td>\n",
       "      <td>2.02597</td>\n",
       "    </tr>\n",
       "    <tr>\n",
       "      <th>3230</th>\n",
       "      <td>-119.61</td>\n",
       "      <td>36.31</td>\n",
       "      <td>25</td>\n",
       "      <td>1847</td>\n",
       "      <td>371</td>\n",
       "      <td>1460</td>\n",
       "      <td>353</td>\n",
       "      <td>1.8839</td>\n",
       "      <td>INLAND</td>\n",
       "      <td>5.23229</td>\n",
       "      <td>4.13598</td>\n",
       "    </tr>\n",
       "    <tr>\n",
       "      <th>3555</th>\n",
       "      <td>-118.59</td>\n",
       "      <td>34.23</td>\n",
       "      <td>17</td>\n",
       "      <td>6592</td>\n",
       "      <td>1525</td>\n",
       "      <td>4459</td>\n",
       "      <td>1463</td>\n",
       "      <td>3.0347</td>\n",
       "      <td>&lt;1H OCEAN</td>\n",
       "      <td>4.50581</td>\n",
       "      <td>3.04785</td>\n",
       "    </tr>\n",
       "  </tbody>\n",
       "</table>\n",
       "</div>"
      ],
      "text/plain": [
       "      longitude latitude housing_median_age total_rooms total_bedrooms  \\\n",
       "17606   -121.89    37.29                 38        1568            351   \n",
       "18632   -121.93    37.05                 14         679            108   \n",
       "14650    -117.2    32.77                 31        1952            471   \n",
       "3230    -119.61    36.31                 25        1847            371   \n",
       "3555    -118.59    34.23                 17        6592           1525   \n",
       "\n",
       "      population households median_income ocean_proximity rooms_per_household  \\\n",
       "17606        710        339        2.7042       <1H OCEAN             4.62537   \n",
       "18632        306        113        6.4214       <1H OCEAN             6.00885   \n",
       "14650        936        462        2.8621      NEAR OCEAN             4.22511   \n",
       "3230        1460        353        1.8839          INLAND             5.23229   \n",
       "3555        4459       1463        3.0347       <1H OCEAN             4.50581   \n",
       "\n",
       "      population_per_household  \n",
       "17606                   2.0944  \n",
       "18632                  2.70796  \n",
       "14650                  2.02597  \n",
       "3230                   4.13598  \n",
       "3555                   3.04785  "
      ]
     },
     "execution_count": 16,
     "metadata": {},
     "output_type": "execute_result"
    }
   ],
   "source": [
    "housing_extra_attribs = pd.DataFrame(\n",
    "    housing_extra_attribs,\n",
    "    columns=list(housing.columns)+[\"rooms_per_household\", \"population_per_household\"],\n",
    "    index=housing.index)\n",
    "housing_extra_attribs.head()"
   ]
  },
  {
   "cell_type": "code",
   "execution_count": 17,
   "metadata": {},
   "outputs": [],
   "source": [
    "from sklearn.pipeline import Pipeline\n",
    "from sklearn.preprocessing import StandardScaler\n",
    "\n",
    "num_pipeline = Pipeline([\n",
    "    ('imputer', SimpleImputer(strategy=\"median\")),\n",
    "    ('attribs_adder', CombinedAttributesAdder()),\n",
    "    ('std_scaler', StandardScaler()),\n",
    "])"
   ]
  },
  {
   "cell_type": "code",
   "execution_count": 18,
   "metadata": {},
   "outputs": [],
   "source": [
    "housing_num = housing.drop(\"ocean_proximity\",axis=1)"
   ]
  },
  {
   "cell_type": "code",
   "execution_count": null,
   "metadata": {},
   "outputs": [],
   "source": []
  },
  {
   "cell_type": "code",
   "execution_count": null,
   "metadata": {},
   "outputs": [],
   "source": [
    "#alternative feature extraction transformer and pipeline"
   ]
  },
  {
   "cell_type": "code",
   "execution_count": null,
   "metadata": {},
   "outputs": [],
   "source": [
    "'''from sklearn.preprocessing import FunctionTransformer\n",
    "\n",
    "def add_extra_features(X, add_bedrooms_per_room=True):\n",
    "    rooms_per_household = X[:, rooms_ix] / X[:, household_ix]\n",
    "    population_per_household = X[:, population_ix] / X[:, household_ix]\n",
    "    if add_bedrooms_per_room:\n",
    "        bedrooms_per_room = X[:, bedrooms_ix] / X[:, rooms_ix]\n",
    "        return np.c_[X, rooms_per_household, population_per_household,\n",
    "                     bedrooms_per_room]\n",
    "    else:\n",
    "        return np.c_[X, rooms_per_household, population_per_household]\n",
    "\n",
    "attr_adder = FunctionTransformer(add_extra_features, validate=False,\n",
    "                                 kw_args={\"add_bedrooms_per_room\": False})\n",
    "housing_extra_attribs = attr_adder.fit_transform(housing.values)\n",
    "'''"
   ]
  },
  {
   "cell_type": "code",
   "execution_count": null,
   "metadata": {},
   "outputs": [],
   "source": [
    "'''\n",
    "from sklearn.pipeline import Pipeline\n",
    "from sklearn.preprocessing import StandardScaler\n",
    "\n",
    "num_pipeline = Pipeline([\n",
    "        ('imputer', SimpleImputer(strategy=\"median\")),\n",
    "        ('attribs_adder', FunctionTransformer(add_extra_features, validate=False)),\n",
    "        ('std_scaler', StandardScaler()),\n",
    "    ])\n",
    "\n",
    "housing_num_tr = num_pipeline.fit_transform(housing_num)\n",
    "'''"
   ]
  },
  {
   "cell_type": "code",
   "execution_count": null,
   "metadata": {},
   "outputs": [],
   "source": []
  },
  {
   "cell_type": "code",
   "execution_count": 19,
   "metadata": {},
   "outputs": [],
   "source": [
    "from sklearn.compose import ColumnTransformer\n",
    "\n",
    "num_attribs = list(housing_num)\n",
    "cat_attribs = [\"ocean_proximity\"]\n",
    "\n",
    "full_pipeline = ColumnTransformer([\n",
    "    (\"num\", num_pipeline, num_attribs),\n",
    "    (\"cat\", OneHotEncoder(), cat_attribs),\n",
    "])\n",
    "\n",
    "housing_prepared = full_pipeline.fit_transform(housing)"
   ]
  },
  {
   "cell_type": "code",
   "execution_count": 20,
   "metadata": {
    "scrolled": true
   },
   "outputs": [
    {
     "data": {
      "text/html": [
       "<div>\n",
       "<style scoped>\n",
       "    .dataframe tbody tr th:only-of-type {\n",
       "        vertical-align: middle;\n",
       "    }\n",
       "\n",
       "    .dataframe tbody tr th {\n",
       "        vertical-align: top;\n",
       "    }\n",
       "\n",
       "    .dataframe thead th {\n",
       "        text-align: right;\n",
       "    }\n",
       "</style>\n",
       "<table border=\"1\" class=\"dataframe\">\n",
       "  <thead>\n",
       "    <tr style=\"text-align: right;\">\n",
       "      <th></th>\n",
       "      <th>longitude</th>\n",
       "      <th>latitude</th>\n",
       "      <th>housing_median_age</th>\n",
       "      <th>total_rooms</th>\n",
       "      <th>total_bedrooms</th>\n",
       "      <th>population</th>\n",
       "      <th>households</th>\n",
       "      <th>median_income</th>\n",
       "      <th>ocean_proximity</th>\n",
       "    </tr>\n",
       "  </thead>\n",
       "  <tbody>\n",
       "    <tr>\n",
       "      <th>17606</th>\n",
       "      <td>-121.89</td>\n",
       "      <td>37.29</td>\n",
       "      <td>38.0</td>\n",
       "      <td>1568.0</td>\n",
       "      <td>351.0</td>\n",
       "      <td>710.0</td>\n",
       "      <td>339.0</td>\n",
       "      <td>2.7042</td>\n",
       "      <td>&lt;1H OCEAN</td>\n",
       "    </tr>\n",
       "    <tr>\n",
       "      <th>18632</th>\n",
       "      <td>-121.93</td>\n",
       "      <td>37.05</td>\n",
       "      <td>14.0</td>\n",
       "      <td>679.0</td>\n",
       "      <td>108.0</td>\n",
       "      <td>306.0</td>\n",
       "      <td>113.0</td>\n",
       "      <td>6.4214</td>\n",
       "      <td>&lt;1H OCEAN</td>\n",
       "    </tr>\n",
       "    <tr>\n",
       "      <th>14650</th>\n",
       "      <td>-117.20</td>\n",
       "      <td>32.77</td>\n",
       "      <td>31.0</td>\n",
       "      <td>1952.0</td>\n",
       "      <td>471.0</td>\n",
       "      <td>936.0</td>\n",
       "      <td>462.0</td>\n",
       "      <td>2.8621</td>\n",
       "      <td>NEAR OCEAN</td>\n",
       "    </tr>\n",
       "    <tr>\n",
       "      <th>3230</th>\n",
       "      <td>-119.61</td>\n",
       "      <td>36.31</td>\n",
       "      <td>25.0</td>\n",
       "      <td>1847.0</td>\n",
       "      <td>371.0</td>\n",
       "      <td>1460.0</td>\n",
       "      <td>353.0</td>\n",
       "      <td>1.8839</td>\n",
       "      <td>INLAND</td>\n",
       "    </tr>\n",
       "    <tr>\n",
       "      <th>3555</th>\n",
       "      <td>-118.59</td>\n",
       "      <td>34.23</td>\n",
       "      <td>17.0</td>\n",
       "      <td>6592.0</td>\n",
       "      <td>1525.0</td>\n",
       "      <td>4459.0</td>\n",
       "      <td>1463.0</td>\n",
       "      <td>3.0347</td>\n",
       "      <td>&lt;1H OCEAN</td>\n",
       "    </tr>\n",
       "    <tr>\n",
       "      <th>19480</th>\n",
       "      <td>-120.97</td>\n",
       "      <td>37.66</td>\n",
       "      <td>24.0</td>\n",
       "      <td>2930.0</td>\n",
       "      <td>588.0</td>\n",
       "      <td>1448.0</td>\n",
       "      <td>570.0</td>\n",
       "      <td>3.5395</td>\n",
       "      <td>INLAND</td>\n",
       "    </tr>\n",
       "    <tr>\n",
       "      <th>8879</th>\n",
       "      <td>-118.50</td>\n",
       "      <td>34.04</td>\n",
       "      <td>52.0</td>\n",
       "      <td>2233.0</td>\n",
       "      <td>317.0</td>\n",
       "      <td>769.0</td>\n",
       "      <td>277.0</td>\n",
       "      <td>8.3839</td>\n",
       "      <td>&lt;1H OCEAN</td>\n",
       "    </tr>\n",
       "    <tr>\n",
       "      <th>13685</th>\n",
       "      <td>-117.24</td>\n",
       "      <td>34.15</td>\n",
       "      <td>26.0</td>\n",
       "      <td>2041.0</td>\n",
       "      <td>293.0</td>\n",
       "      <td>936.0</td>\n",
       "      <td>375.0</td>\n",
       "      <td>6.0000</td>\n",
       "      <td>INLAND</td>\n",
       "    </tr>\n",
       "    <tr>\n",
       "      <th>4937</th>\n",
       "      <td>-118.26</td>\n",
       "      <td>33.99</td>\n",
       "      <td>47.0</td>\n",
       "      <td>1865.0</td>\n",
       "      <td>465.0</td>\n",
       "      <td>1916.0</td>\n",
       "      <td>438.0</td>\n",
       "      <td>1.8242</td>\n",
       "      <td>&lt;1H OCEAN</td>\n",
       "    </tr>\n",
       "    <tr>\n",
       "      <th>4861</th>\n",
       "      <td>-118.28</td>\n",
       "      <td>34.02</td>\n",
       "      <td>29.0</td>\n",
       "      <td>515.0</td>\n",
       "      <td>229.0</td>\n",
       "      <td>2690.0</td>\n",
       "      <td>217.0</td>\n",
       "      <td>0.4999</td>\n",
       "      <td>&lt;1H OCEAN</td>\n",
       "    </tr>\n",
       "    <tr>\n",
       "      <th>16365</th>\n",
       "      <td>-121.31</td>\n",
       "      <td>38.02</td>\n",
       "      <td>24.0</td>\n",
       "      <td>4157.0</td>\n",
       "      <td>951.0</td>\n",
       "      <td>2734.0</td>\n",
       "      <td>879.0</td>\n",
       "      <td>2.7981</td>\n",
       "      <td>INLAND</td>\n",
       "    </tr>\n",
       "    <tr>\n",
       "      <th>19684</th>\n",
       "      <td>-121.62</td>\n",
       "      <td>39.14</td>\n",
       "      <td>41.0</td>\n",
       "      <td>2183.0</td>\n",
       "      <td>559.0</td>\n",
       "      <td>1202.0</td>\n",
       "      <td>506.0</td>\n",
       "      <td>1.6902</td>\n",
       "      <td>INLAND</td>\n",
       "    </tr>\n",
       "    <tr>\n",
       "      <th>19234</th>\n",
       "      <td>-122.69</td>\n",
       "      <td>38.51</td>\n",
       "      <td>18.0</td>\n",
       "      <td>3364.0</td>\n",
       "      <td>501.0</td>\n",
       "      <td>1442.0</td>\n",
       "      <td>506.0</td>\n",
       "      <td>6.6854</td>\n",
       "      <td>&lt;1H OCEAN</td>\n",
       "    </tr>\n",
       "    <tr>\n",
       "      <th>13956</th>\n",
       "      <td>-117.06</td>\n",
       "      <td>34.17</td>\n",
       "      <td>21.0</td>\n",
       "      <td>2520.0</td>\n",
       "      <td>582.0</td>\n",
       "      <td>416.0</td>\n",
       "      <td>151.0</td>\n",
       "      <td>2.7120</td>\n",
       "      <td>INLAND</td>\n",
       "    </tr>\n",
       "    <tr>\n",
       "      <th>2390</th>\n",
       "      <td>-119.46</td>\n",
       "      <td>36.91</td>\n",
       "      <td>12.0</td>\n",
       "      <td>2980.0</td>\n",
       "      <td>495.0</td>\n",
       "      <td>1184.0</td>\n",
       "      <td>429.0</td>\n",
       "      <td>3.9141</td>\n",
       "      <td>INLAND</td>\n",
       "    </tr>\n",
       "    <tr>\n",
       "      <th>11176</th>\n",
       "      <td>-117.96</td>\n",
       "      <td>33.83</td>\n",
       "      <td>30.0</td>\n",
       "      <td>2838.0</td>\n",
       "      <td>649.0</td>\n",
       "      <td>1758.0</td>\n",
       "      <td>593.0</td>\n",
       "      <td>3.3831</td>\n",
       "      <td>&lt;1H OCEAN</td>\n",
       "    </tr>\n",
       "    <tr>\n",
       "      <th>15614</th>\n",
       "      <td>-122.41</td>\n",
       "      <td>37.81</td>\n",
       "      <td>25.0</td>\n",
       "      <td>1178.0</td>\n",
       "      <td>545.0</td>\n",
       "      <td>592.0</td>\n",
       "      <td>441.0</td>\n",
       "      <td>3.6728</td>\n",
       "      <td>NEAR BAY</td>\n",
       "    </tr>\n",
       "    <tr>\n",
       "      <th>2953</th>\n",
       "      <td>-119.02</td>\n",
       "      <td>35.35</td>\n",
       "      <td>42.0</td>\n",
       "      <td>1239.0</td>\n",
       "      <td>251.0</td>\n",
       "      <td>776.0</td>\n",
       "      <td>272.0</td>\n",
       "      <td>1.9830</td>\n",
       "      <td>INLAND</td>\n",
       "    </tr>\n",
       "    <tr>\n",
       "      <th>13209</th>\n",
       "      <td>-117.72</td>\n",
       "      <td>34.05</td>\n",
       "      <td>8.0</td>\n",
       "      <td>1841.0</td>\n",
       "      <td>409.0</td>\n",
       "      <td>1243.0</td>\n",
       "      <td>394.0</td>\n",
       "      <td>4.0614</td>\n",
       "      <td>INLAND</td>\n",
       "    </tr>\n",
       "    <tr>\n",
       "      <th>6569</th>\n",
       "      <td>-118.15</td>\n",
       "      <td>34.20</td>\n",
       "      <td>46.0</td>\n",
       "      <td>1505.0</td>\n",
       "      <td>261.0</td>\n",
       "      <td>857.0</td>\n",
       "      <td>269.0</td>\n",
       "      <td>4.5000</td>\n",
       "      <td>INLAND</td>\n",
       "    </tr>\n",
       "    <tr>\n",
       "      <th>5825</th>\n",
       "      <td>-118.30</td>\n",
       "      <td>34.19</td>\n",
       "      <td>14.0</td>\n",
       "      <td>3615.0</td>\n",
       "      <td>913.0</td>\n",
       "      <td>1924.0</td>\n",
       "      <td>852.0</td>\n",
       "      <td>3.5083</td>\n",
       "      <td>&lt;1H OCEAN</td>\n",
       "    </tr>\n",
       "    <tr>\n",
       "      <th>18086</th>\n",
       "      <td>-122.05</td>\n",
       "      <td>37.31</td>\n",
       "      <td>25.0</td>\n",
       "      <td>4111.0</td>\n",
       "      <td>538.0</td>\n",
       "      <td>1585.0</td>\n",
       "      <td>568.0</td>\n",
       "      <td>9.2298</td>\n",
       "      <td>&lt;1H OCEAN</td>\n",
       "    </tr>\n",
       "    <tr>\n",
       "      <th>16718</th>\n",
       "      <td>-120.66</td>\n",
       "      <td>35.49</td>\n",
       "      <td>17.0</td>\n",
       "      <td>4422.0</td>\n",
       "      <td>945.0</td>\n",
       "      <td>2307.0</td>\n",
       "      <td>885.0</td>\n",
       "      <td>2.8285</td>\n",
       "      <td>&lt;1H OCEAN</td>\n",
       "    </tr>\n",
       "    <tr>\n",
       "      <th>13600</th>\n",
       "      <td>-117.25</td>\n",
       "      <td>34.16</td>\n",
       "      <td>37.0</td>\n",
       "      <td>1709.0</td>\n",
       "      <td>278.0</td>\n",
       "      <td>744.0</td>\n",
       "      <td>274.0</td>\n",
       "      <td>3.7188</td>\n",
       "      <td>INLAND</td>\n",
       "    </tr>\n",
       "    <tr>\n",
       "      <th>13989</th>\n",
       "      <td>-117.19</td>\n",
       "      <td>34.94</td>\n",
       "      <td>31.0</td>\n",
       "      <td>2034.0</td>\n",
       "      <td>444.0</td>\n",
       "      <td>1097.0</td>\n",
       "      <td>367.0</td>\n",
       "      <td>2.1522</td>\n",
       "      <td>INLAND</td>\n",
       "    </tr>\n",
       "    <tr>\n",
       "      <th>15168</th>\n",
       "      <td>-117.06</td>\n",
       "      <td>33.02</td>\n",
       "      <td>24.0</td>\n",
       "      <td>830.0</td>\n",
       "      <td>190.0</td>\n",
       "      <td>279.0</td>\n",
       "      <td>196.0</td>\n",
       "      <td>1.9176</td>\n",
       "      <td>&lt;1H OCEAN</td>\n",
       "    </tr>\n",
       "    <tr>\n",
       "      <th>6747</th>\n",
       "      <td>-118.07</td>\n",
       "      <td>34.11</td>\n",
       "      <td>41.0</td>\n",
       "      <td>2869.0</td>\n",
       "      <td>563.0</td>\n",
       "      <td>1627.0</td>\n",
       "      <td>533.0</td>\n",
       "      <td>5.0736</td>\n",
       "      <td>&lt;1H OCEAN</td>\n",
       "    </tr>\n",
       "    <tr>\n",
       "      <th>7398</th>\n",
       "      <td>-118.24</td>\n",
       "      <td>33.96</td>\n",
       "      <td>44.0</td>\n",
       "      <td>1338.0</td>\n",
       "      <td>366.0</td>\n",
       "      <td>1765.0</td>\n",
       "      <td>388.0</td>\n",
       "      <td>1.7778</td>\n",
       "      <td>&lt;1H OCEAN</td>\n",
       "    </tr>\n",
       "    <tr>\n",
       "      <th>5562</th>\n",
       "      <td>-118.28</td>\n",
       "      <td>33.91</td>\n",
       "      <td>41.0</td>\n",
       "      <td>620.0</td>\n",
       "      <td>133.0</td>\n",
       "      <td>642.0</td>\n",
       "      <td>162.0</td>\n",
       "      <td>2.6546</td>\n",
       "      <td>&lt;1H OCEAN</td>\n",
       "    </tr>\n",
       "    <tr>\n",
       "      <th>16121</th>\n",
       "      <td>-122.46</td>\n",
       "      <td>37.79</td>\n",
       "      <td>52.0</td>\n",
       "      <td>2059.0</td>\n",
       "      <td>416.0</td>\n",
       "      <td>999.0</td>\n",
       "      <td>402.0</td>\n",
       "      <td>3.7419</td>\n",
       "      <td>NEAR BAY</td>\n",
       "    </tr>\n",
       "    <tr>\n",
       "      <th>...</th>\n",
       "      <td>...</td>\n",
       "      <td>...</td>\n",
       "      <td>...</td>\n",
       "      <td>...</td>\n",
       "      <td>...</td>\n",
       "      <td>...</td>\n",
       "      <td>...</td>\n",
       "      <td>...</td>\n",
       "      <td>...</td>\n",
       "    </tr>\n",
       "    <tr>\n",
       "      <th>12380</th>\n",
       "      <td>-116.47</td>\n",
       "      <td>33.77</td>\n",
       "      <td>26.0</td>\n",
       "      <td>4300.0</td>\n",
       "      <td>767.0</td>\n",
       "      <td>1557.0</td>\n",
       "      <td>669.0</td>\n",
       "      <td>4.4107</td>\n",
       "      <td>INLAND</td>\n",
       "    </tr>\n",
       "    <tr>\n",
       "      <th>5618</th>\n",
       "      <td>-118.23</td>\n",
       "      <td>33.78</td>\n",
       "      <td>20.0</td>\n",
       "      <td>59.0</td>\n",
       "      <td>24.0</td>\n",
       "      <td>69.0</td>\n",
       "      <td>23.0</td>\n",
       "      <td>2.5588</td>\n",
       "      <td>NEAR OCEAN</td>\n",
       "    </tr>\n",
       "    <tr>\n",
       "      <th>10060</th>\n",
       "      <td>-121.06</td>\n",
       "      <td>39.25</td>\n",
       "      <td>17.0</td>\n",
       "      <td>3127.0</td>\n",
       "      <td>539.0</td>\n",
       "      <td>1390.0</td>\n",
       "      <td>520.0</td>\n",
       "      <td>3.9537</td>\n",
       "      <td>INLAND</td>\n",
       "    </tr>\n",
       "    <tr>\n",
       "      <th>18067</th>\n",
       "      <td>-122.03</td>\n",
       "      <td>37.29</td>\n",
       "      <td>22.0</td>\n",
       "      <td>3118.0</td>\n",
       "      <td>438.0</td>\n",
       "      <td>1147.0</td>\n",
       "      <td>425.0</td>\n",
       "      <td>10.3653</td>\n",
       "      <td>&lt;1H OCEAN</td>\n",
       "    </tr>\n",
       "    <tr>\n",
       "      <th>4471</th>\n",
       "      <td>-118.17</td>\n",
       "      <td>34.09</td>\n",
       "      <td>33.0</td>\n",
       "      <td>2907.0</td>\n",
       "      <td>797.0</td>\n",
       "      <td>3212.0</td>\n",
       "      <td>793.0</td>\n",
       "      <td>2.2348</td>\n",
       "      <td>&lt;1H OCEAN</td>\n",
       "    </tr>\n",
       "    <tr>\n",
       "      <th>19786</th>\n",
       "      <td>-122.86</td>\n",
       "      <td>40.56</td>\n",
       "      <td>12.0</td>\n",
       "      <td>1350.0</td>\n",
       "      <td>300.0</td>\n",
       "      <td>423.0</td>\n",
       "      <td>172.0</td>\n",
       "      <td>1.7393</td>\n",
       "      <td>INLAND</td>\n",
       "    </tr>\n",
       "    <tr>\n",
       "      <th>9969</th>\n",
       "      <td>-122.48</td>\n",
       "      <td>38.51</td>\n",
       "      <td>49.0</td>\n",
       "      <td>1977.0</td>\n",
       "      <td>393.0</td>\n",
       "      <td>741.0</td>\n",
       "      <td>339.0</td>\n",
       "      <td>3.1312</td>\n",
       "      <td>INLAND</td>\n",
       "    </tr>\n",
       "    <tr>\n",
       "      <th>14621</th>\n",
       "      <td>-117.17</td>\n",
       "      <td>32.78</td>\n",
       "      <td>17.0</td>\n",
       "      <td>3845.0</td>\n",
       "      <td>1051.0</td>\n",
       "      <td>3102.0</td>\n",
       "      <td>944.0</td>\n",
       "      <td>2.3658</td>\n",
       "      <td>NEAR OCEAN</td>\n",
       "    </tr>\n",
       "    <tr>\n",
       "      <th>579</th>\n",
       "      <td>-122.07</td>\n",
       "      <td>37.71</td>\n",
       "      <td>40.0</td>\n",
       "      <td>1808.0</td>\n",
       "      <td>302.0</td>\n",
       "      <td>746.0</td>\n",
       "      <td>270.0</td>\n",
       "      <td>5.3015</td>\n",
       "      <td>NEAR BAY</td>\n",
       "    </tr>\n",
       "    <tr>\n",
       "      <th>11682</th>\n",
       "      <td>-118.01</td>\n",
       "      <td>33.87</td>\n",
       "      <td>25.0</td>\n",
       "      <td>6348.0</td>\n",
       "      <td>1615.0</td>\n",
       "      <td>4188.0</td>\n",
       "      <td>1497.0</td>\n",
       "      <td>3.1390</td>\n",
       "      <td>&lt;1H OCEAN</td>\n",
       "    </tr>\n",
       "    <tr>\n",
       "      <th>245</th>\n",
       "      <td>-122.21</td>\n",
       "      <td>37.78</td>\n",
       "      <td>43.0</td>\n",
       "      <td>1702.0</td>\n",
       "      <td>460.0</td>\n",
       "      <td>1227.0</td>\n",
       "      <td>407.0</td>\n",
       "      <td>1.7188</td>\n",
       "      <td>NEAR BAY</td>\n",
       "    </tr>\n",
       "    <tr>\n",
       "      <th>12130</th>\n",
       "      <td>-117.23</td>\n",
       "      <td>33.94</td>\n",
       "      <td>8.0</td>\n",
       "      <td>2405.0</td>\n",
       "      <td>537.0</td>\n",
       "      <td>1594.0</td>\n",
       "      <td>517.0</td>\n",
       "      <td>3.0789</td>\n",
       "      <td>INLAND</td>\n",
       "    </tr>\n",
       "    <tr>\n",
       "      <th>16441</th>\n",
       "      <td>-121.29</td>\n",
       "      <td>38.14</td>\n",
       "      <td>34.0</td>\n",
       "      <td>2770.0</td>\n",
       "      <td>544.0</td>\n",
       "      <td>1409.0</td>\n",
       "      <td>535.0</td>\n",
       "      <td>3.2338</td>\n",
       "      <td>INLAND</td>\n",
       "    </tr>\n",
       "    <tr>\n",
       "      <th>11016</th>\n",
       "      <td>-117.82</td>\n",
       "      <td>33.76</td>\n",
       "      <td>33.0</td>\n",
       "      <td>2774.0</td>\n",
       "      <td>428.0</td>\n",
       "      <td>1229.0</td>\n",
       "      <td>407.0</td>\n",
       "      <td>6.2944</td>\n",
       "      <td>&lt;1H OCEAN</td>\n",
       "    </tr>\n",
       "    <tr>\n",
       "      <th>19934</th>\n",
       "      <td>-119.34</td>\n",
       "      <td>36.31</td>\n",
       "      <td>14.0</td>\n",
       "      <td>1635.0</td>\n",
       "      <td>422.0</td>\n",
       "      <td>870.0</td>\n",
       "      <td>399.0</td>\n",
       "      <td>2.7000</td>\n",
       "      <td>INLAND</td>\n",
       "    </tr>\n",
       "    <tr>\n",
       "      <th>1364</th>\n",
       "      <td>-122.14</td>\n",
       "      <td>38.03</td>\n",
       "      <td>42.0</td>\n",
       "      <td>118.0</td>\n",
       "      <td>34.0</td>\n",
       "      <td>54.0</td>\n",
       "      <td>30.0</td>\n",
       "      <td>2.5795</td>\n",
       "      <td>NEAR BAY</td>\n",
       "    </tr>\n",
       "    <tr>\n",
       "      <th>1236</th>\n",
       "      <td>-120.37</td>\n",
       "      <td>38.23</td>\n",
       "      <td>13.0</td>\n",
       "      <td>4401.0</td>\n",
       "      <td>829.0</td>\n",
       "      <td>924.0</td>\n",
       "      <td>383.0</td>\n",
       "      <td>2.6942</td>\n",
       "      <td>INLAND</td>\n",
       "    </tr>\n",
       "    <tr>\n",
       "      <th>5364</th>\n",
       "      <td>-118.42</td>\n",
       "      <td>34.04</td>\n",
       "      <td>52.0</td>\n",
       "      <td>1358.0</td>\n",
       "      <td>272.0</td>\n",
       "      <td>574.0</td>\n",
       "      <td>267.0</td>\n",
       "      <td>5.6454</td>\n",
       "      <td>&lt;1H OCEAN</td>\n",
       "    </tr>\n",
       "    <tr>\n",
       "      <th>11703</th>\n",
       "      <td>-117.97</td>\n",
       "      <td>33.88</td>\n",
       "      <td>16.0</td>\n",
       "      <td>2003.0</td>\n",
       "      <td>300.0</td>\n",
       "      <td>1172.0</td>\n",
       "      <td>318.0</td>\n",
       "      <td>6.0394</td>\n",
       "      <td>&lt;1H OCEAN</td>\n",
       "    </tr>\n",
       "    <tr>\n",
       "      <th>10356</th>\n",
       "      <td>-117.67</td>\n",
       "      <td>33.60</td>\n",
       "      <td>25.0</td>\n",
       "      <td>3164.0</td>\n",
       "      <td>449.0</td>\n",
       "      <td>1517.0</td>\n",
       "      <td>453.0</td>\n",
       "      <td>6.7921</td>\n",
       "      <td>&lt;1H OCEAN</td>\n",
       "    </tr>\n",
       "    <tr>\n",
       "      <th>15270</th>\n",
       "      <td>-117.29</td>\n",
       "      <td>33.08</td>\n",
       "      <td>18.0</td>\n",
       "      <td>3225.0</td>\n",
       "      <td>515.0</td>\n",
       "      <td>1463.0</td>\n",
       "      <td>476.0</td>\n",
       "      <td>5.7787</td>\n",
       "      <td>NEAR OCEAN</td>\n",
       "    </tr>\n",
       "    <tr>\n",
       "      <th>3754</th>\n",
       "      <td>-118.37</td>\n",
       "      <td>34.18</td>\n",
       "      <td>36.0</td>\n",
       "      <td>1608.0</td>\n",
       "      <td>373.0</td>\n",
       "      <td>1217.0</td>\n",
       "      <td>374.0</td>\n",
       "      <td>2.9728</td>\n",
       "      <td>&lt;1H OCEAN</td>\n",
       "    </tr>\n",
       "    <tr>\n",
       "      <th>12166</th>\n",
       "      <td>-117.14</td>\n",
       "      <td>33.81</td>\n",
       "      <td>13.0</td>\n",
       "      <td>4496.0</td>\n",
       "      <td>756.0</td>\n",
       "      <td>2044.0</td>\n",
       "      <td>695.0</td>\n",
       "      <td>3.2778</td>\n",
       "      <td>INLAND</td>\n",
       "    </tr>\n",
       "    <tr>\n",
       "      <th>6003</th>\n",
       "      <td>-117.77</td>\n",
       "      <td>34.08</td>\n",
       "      <td>27.0</td>\n",
       "      <td>5929.0</td>\n",
       "      <td>932.0</td>\n",
       "      <td>2817.0</td>\n",
       "      <td>828.0</td>\n",
       "      <td>6.0434</td>\n",
       "      <td>INLAND</td>\n",
       "    </tr>\n",
       "    <tr>\n",
       "      <th>7364</th>\n",
       "      <td>-118.20</td>\n",
       "      <td>33.97</td>\n",
       "      <td>43.0</td>\n",
       "      <td>825.0</td>\n",
       "      <td>212.0</td>\n",
       "      <td>820.0</td>\n",
       "      <td>184.0</td>\n",
       "      <td>1.8897</td>\n",
       "      <td>&lt;1H OCEAN</td>\n",
       "    </tr>\n",
       "    <tr>\n",
       "      <th>6563</th>\n",
       "      <td>-118.13</td>\n",
       "      <td>34.20</td>\n",
       "      <td>46.0</td>\n",
       "      <td>1271.0</td>\n",
       "      <td>236.0</td>\n",
       "      <td>573.0</td>\n",
       "      <td>210.0</td>\n",
       "      <td>4.9312</td>\n",
       "      <td>INLAND</td>\n",
       "    </tr>\n",
       "    <tr>\n",
       "      <th>12053</th>\n",
       "      <td>-117.56</td>\n",
       "      <td>33.88</td>\n",
       "      <td>40.0</td>\n",
       "      <td>1196.0</td>\n",
       "      <td>294.0</td>\n",
       "      <td>1052.0</td>\n",
       "      <td>258.0</td>\n",
       "      <td>2.0682</td>\n",
       "      <td>INLAND</td>\n",
       "    </tr>\n",
       "    <tr>\n",
       "      <th>13908</th>\n",
       "      <td>-116.40</td>\n",
       "      <td>34.09</td>\n",
       "      <td>9.0</td>\n",
       "      <td>4855.0</td>\n",
       "      <td>872.0</td>\n",
       "      <td>2098.0</td>\n",
       "      <td>765.0</td>\n",
       "      <td>3.2723</td>\n",
       "      <td>INLAND</td>\n",
       "    </tr>\n",
       "    <tr>\n",
       "      <th>11159</th>\n",
       "      <td>-118.01</td>\n",
       "      <td>33.82</td>\n",
       "      <td>31.0</td>\n",
       "      <td>1960.0</td>\n",
       "      <td>380.0</td>\n",
       "      <td>1356.0</td>\n",
       "      <td>356.0</td>\n",
       "      <td>4.0625</td>\n",
       "      <td>&lt;1H OCEAN</td>\n",
       "    </tr>\n",
       "    <tr>\n",
       "      <th>15775</th>\n",
       "      <td>-122.45</td>\n",
       "      <td>37.77</td>\n",
       "      <td>52.0</td>\n",
       "      <td>3095.0</td>\n",
       "      <td>682.0</td>\n",
       "      <td>1269.0</td>\n",
       "      <td>639.0</td>\n",
       "      <td>3.5750</td>\n",
       "      <td>NEAR BAY</td>\n",
       "    </tr>\n",
       "  </tbody>\n",
       "</table>\n",
       "<p>16512 rows × 9 columns</p>\n",
       "</div>"
      ],
      "text/plain": [
       "       longitude  latitude  housing_median_age  total_rooms  total_bedrooms  \\\n",
       "17606    -121.89     37.29                38.0       1568.0           351.0   \n",
       "18632    -121.93     37.05                14.0        679.0           108.0   \n",
       "14650    -117.20     32.77                31.0       1952.0           471.0   \n",
       "3230     -119.61     36.31                25.0       1847.0           371.0   \n",
       "3555     -118.59     34.23                17.0       6592.0          1525.0   \n",
       "...          ...       ...                 ...          ...             ...   \n",
       "6563     -118.13     34.20                46.0       1271.0           236.0   \n",
       "12053    -117.56     33.88                40.0       1196.0           294.0   \n",
       "13908    -116.40     34.09                 9.0       4855.0           872.0   \n",
       "11159    -118.01     33.82                31.0       1960.0           380.0   \n",
       "15775    -122.45     37.77                52.0       3095.0           682.0   \n",
       "\n",
       "       population  households  median_income ocean_proximity  \n",
       "17606       710.0       339.0         2.7042       <1H OCEAN  \n",
       "18632       306.0       113.0         6.4214       <1H OCEAN  \n",
       "14650       936.0       462.0         2.8621      NEAR OCEAN  \n",
       "3230       1460.0       353.0         1.8839          INLAND  \n",
       "3555       4459.0      1463.0         3.0347       <1H OCEAN  \n",
       "...           ...         ...            ...             ...  \n",
       "6563        573.0       210.0         4.9312          INLAND  \n",
       "12053      1052.0       258.0         2.0682          INLAND  \n",
       "13908      2098.0       765.0         3.2723          INLAND  \n",
       "11159      1356.0       356.0         4.0625       <1H OCEAN  \n",
       "15775      1269.0       639.0         3.5750        NEAR BAY  \n",
       "\n",
       "[16512 rows x 9 columns]"
      ]
     },
     "execution_count": 20,
     "metadata": {},
     "output_type": "execute_result"
    }
   ],
   "source": [
    "housing"
   ]
  },
  {
   "cell_type": "code",
   "execution_count": 26,
   "metadata": {},
   "outputs": [
    {
     "data": {
      "text/plain": [
       "(16512, 16)"
      ]
     },
     "execution_count": 26,
     "metadata": {},
     "output_type": "execute_result"
    }
   ],
   "source": [
    "housing_prepared.shape"
   ]
  },
  {
   "cell_type": "code",
   "execution_count": 18,
   "metadata": {},
   "outputs": [
    {
     "data": {
      "text/plain": [
       "LinearRegression(copy_X=True, fit_intercept=True, n_jobs=None, normalize=False)"
      ]
     },
     "execution_count": 18,
     "metadata": {},
     "output_type": "execute_result"
    }
   ],
   "source": [
    "from sklearn.linear_model import LinearRegression\n",
    "\n",
    "lin_reg = LinearRegression()\n",
    "lin_reg.fit(housing_prepared, housing_labels)"
   ]
  },
  {
   "cell_type": "code",
   "execution_count": 19,
   "metadata": {},
   "outputs": [
    {
     "data": {
      "text/plain": [
       "68628.19819848922"
      ]
     },
     "execution_count": 19,
     "metadata": {},
     "output_type": "execute_result"
    }
   ],
   "source": [
    "from sklearn.metrics import mean_squared_error\n",
    "\n",
    "housing_predictions = lin_reg.predict(housing_prepared)\n",
    "lin_mse = mean_squared_error(housing_labels, housing_predictions)\n",
    "lin_rmse = np.sqrt(lin_mse)\n",
    "lin_rmse"
   ]
  },
  {
   "cell_type": "code",
   "execution_count": 20,
   "metadata": {},
   "outputs": [
    {
     "data": {
      "text/plain": [
       "DecisionTreeRegressor(criterion='mse', max_depth=None, max_features=None,\n",
       "                      max_leaf_nodes=None, min_impurity_decrease=0.0,\n",
       "                      min_impurity_split=None, min_samples_leaf=1,\n",
       "                      min_samples_split=2, min_weight_fraction_leaf=0.0,\n",
       "                      presort=False, random_state=None, splitter='best')"
      ]
     },
     "execution_count": 20,
     "metadata": {},
     "output_type": "execute_result"
    }
   ],
   "source": [
    "from sklearn.tree import DecisionTreeRegressor\n",
    "\n",
    "tree_reg = DecisionTreeRegressor()\n",
    "tree_reg.fit(housing_prepared, housing_labels)"
   ]
  },
  {
   "cell_type": "code",
   "execution_count": 21,
   "metadata": {},
   "outputs": [
    {
     "data": {
      "text/plain": [
       "0.0"
      ]
     },
     "execution_count": 21,
     "metadata": {},
     "output_type": "execute_result"
    }
   ],
   "source": [
    "housing_predictions = tree_reg.predict(housing_prepared)\n",
    "tree_mse = mean_squared_error(housing_labels, housing_predictions)\n",
    "tree_rmse = np.sqrt(tree_mse)\n",
    "tree_rmse"
   ]
  },
  {
   "cell_type": "code",
   "execution_count": 22,
   "metadata": {},
   "outputs": [],
   "source": [
    "from sklearn.model_selection import cross_val_score\n",
    "\n",
    "scores = cross_val_score(tree_reg, housing_prepared, housing_labels, scoring=\"neg_mean_squared_error\", cv=10)\n",
    "tree_rmse_scores = np.sqrt(-scores)"
   ]
  },
  {
   "cell_type": "code",
   "execution_count": 23,
   "metadata": {},
   "outputs": [
    {
     "name": "stdout",
     "output_type": "stream",
     "text": [
      "Scores: [70189.97187788 66515.84647562 72070.02653622 69272.57304077\n",
      " 70260.52661549 74945.82160912 69976.6575075  71261.06230197\n",
      " 76743.48136779 68913.68508716]\n",
      "Mean: 71014.96524195214\n",
      "Standard deviation: 2818.909364798148\n"
     ]
    }
   ],
   "source": [
    "def display_scores(scores):\n",
    "    print(\"Scores:\", scores)\n",
    "    print(\"Mean:\", scores.mean())\n",
    "    print(\"Standard deviation:\", scores.std())\n",
    "    \n",
    "display_scores(tree_rmse_scores)"
   ]
  },
  {
   "cell_type": "code",
   "execution_count": 24,
   "metadata": {},
   "outputs": [
    {
     "name": "stdout",
     "output_type": "stream",
     "text": [
      "Scores: [66755.35819855 66966.14573098 70347.95244419 74769.18698807\n",
      " 68031.13388938 71229.17716103 64959.86064183 68270.70198961\n",
      " 71552.91566558 67665.10082067]\n",
      "Mean: 69054.75335298848\n",
      "Standard deviation: 2744.2187083829585\n"
     ]
    }
   ],
   "source": [
    "lin_scores = cross_val_score(lin_reg, housing_prepared, housing_labels, scoring=\"neg_mean_squared_error\",cv=10)\n",
    "lin_rmse_scores = np.sqrt(-lin_scores)\n",
    "display_scores(lin_rmse_scores)"
   ]
  },
  {
   "cell_type": "code",
   "execution_count": 25,
   "metadata": {},
   "outputs": [
    {
     "name": "stderr",
     "output_type": "stream",
     "text": [
      "/Volumes/lin/MachineLearning/env/lib/python3.7/site-packages/sklearn/ensemble/forest.py:245: FutureWarning: The default value of n_estimators will change from 10 in version 0.20 to 100 in 0.22.\n",
      "  \"10 in version 0.20 to 100 in 0.22.\", FutureWarning)\n"
     ]
    },
    {
     "data": {
      "text/plain": [
       "RandomForestRegressor(bootstrap=True, criterion='mse', max_depth=None,\n",
       "                      max_features='auto', max_leaf_nodes=None,\n",
       "                      min_impurity_decrease=0.0, min_impurity_split=None,\n",
       "                      min_samples_leaf=1, min_samples_split=2,\n",
       "                      min_weight_fraction_leaf=0.0, n_estimators=10,\n",
       "                      n_jobs=None, oob_score=False, random_state=None,\n",
       "                      verbose=0, warm_start=False)"
      ]
     },
     "execution_count": 25,
     "metadata": {},
     "output_type": "execute_result"
    }
   ],
   "source": [
    "from sklearn.ensemble import RandomForestRegressor\n",
    "\n",
    "forest_reg = RandomForestRegressor()\n",
    "forest_reg.fit(housing_prepared, housing_labels)"
   ]
  },
  {
   "cell_type": "code",
   "execution_count": 26,
   "metadata": {},
   "outputs": [
    {
     "data": {
      "text/plain": [
       "21950.370466403416"
      ]
     },
     "execution_count": 26,
     "metadata": {},
     "output_type": "execute_result"
    }
   ],
   "source": [
    "housing_predictions = forest_reg.predict(housing_prepared)\n",
    "forest_mse = mean_squared_error(housing_labels, housing_predictions)\n",
    "forest_rmse = np.sqrt(forest_mse)\n",
    "forest_rmse"
   ]
  },
  {
   "cell_type": "code",
   "execution_count": 27,
   "metadata": {},
   "outputs": [
    {
     "name": "stdout",
     "output_type": "stream",
     "text": [
      "Scores: [51770.64708571 50042.05003615 51859.0217224  54610.95327632\n",
      " 51910.79393796 56630.02532556 50838.44459005 49591.29858007\n",
      " 55279.05196373 53679.30899674]\n",
      "Mean: 52621.159551468794\n",
      "Standard deviation: 2214.342725218156\n"
     ]
    }
   ],
   "source": [
    "#takes a long time to run\n",
    "scores = cross_val_score(forest_reg, housing_prepared, housing_labels, scoring=\"neg_mean_squared_error\", cv=10)\n",
    "forest_rmse_scores = np.sqrt(-scores)\n",
    "display_scores(forest_rmse_scores)"
   ]
  },
  {
   "cell_type": "code",
   "execution_count": 30,
   "metadata": {},
   "outputs": [
    {
     "data": {
      "text/plain": [
       "GridSearchCV(cv=5, error_score='raise-deprecating',\n",
       "             estimator=RandomForestRegressor(bootstrap=True, criterion='mse',\n",
       "                                             max_depth=None,\n",
       "                                             max_features='auto',\n",
       "                                             max_leaf_nodes=None,\n",
       "                                             min_impurity_decrease=0.0,\n",
       "                                             min_impurity_split=None,\n",
       "                                             min_samples_leaf=1,\n",
       "                                             min_samples_split=2,\n",
       "                                             min_weight_fraction_leaf=0.0,\n",
       "                                             n_estimators='warn', n_jobs=None,\n",
       "                                             oob_score=False, random_state=None,\n",
       "                                             verbose=0, warm_start=False),\n",
       "             iid='warn', n_jobs=None,\n",
       "             param_grid=[{'max_features': [2, 4, 7, 8],\n",
       "                          'n_estimators': [3, 10, 30]},\n",
       "                         {'bootstrap': [False], 'max_features': [2, 3, 4],\n",
       "                          'n_estimators': [3, 10]}],\n",
       "             pre_dispatch='2*n_jobs', refit=True, return_train_score=True,\n",
       "             scoring='neg_mean_squared_error', verbose=0)"
      ]
     },
     "execution_count": 30,
     "metadata": {},
     "output_type": "execute_result"
    }
   ],
   "source": [
    "#takes a long time to run\n",
    "from sklearn.model_selection import GridSearchCV\n",
    "\n",
    "param_grid = [\n",
    "    {'n_estimators': [3, 10 ,30], 'max_features': [2, 4, 6, 8]},\n",
    "    {'bootstrap': [False], 'n_estimators': [3, 10], 'max_features': [2, 3, 4]},\n",
    "]\n",
    "forest_reg = RandomForestRegressor()\n",
    "grid_search = GridSearchCV(forest_reg, param_grid, cv=5,\n",
    "                          scoring = 'neg_mean_squared_error',\n",
    "                          return_train_score = True)\n",
    "grid_search.fit(housing_prepared, housing_labels)"
   ]
  },
  {
   "cell_type": "code",
   "execution_count": 31,
   "metadata": {},
   "outputs": [
    {
     "data": {
      "text/plain": [
       "{'max_features': 8, 'n_estimators': 30}"
      ]
     },
     "execution_count": 31,
     "metadata": {},
     "output_type": "execute_result"
    }
   ],
   "source": [
    "grid_search.best_params_"
   ]
  },
  {
   "cell_type": "code",
   "execution_count": 32,
   "metadata": {},
   "outputs": [
    {
     "data": {
      "text/plain": [
       "RandomForestRegressor(bootstrap=True, criterion='mse', max_depth=None,\n",
       "                      max_features=8, max_leaf_nodes=None,\n",
       "                      min_impurity_decrease=0.0, min_impurity_split=None,\n",
       "                      min_samples_leaf=1, min_samples_split=2,\n",
       "                      min_weight_fraction_leaf=0.0, n_estimators=30,\n",
       "                      n_jobs=None, oob_score=False, random_state=None,\n",
       "                      verbose=0, warm_start=False)"
      ]
     },
     "execution_count": 32,
     "metadata": {},
     "output_type": "execute_result"
    }
   ],
   "source": [
    "grid_search.best_estimator_"
   ]
  },
  {
   "cell_type": "code",
   "execution_count": 50,
   "metadata": {},
   "outputs": [
    {
     "name": "stdout",
     "output_type": "stream",
     "text": [
      "64701.06774320556 {'max_features': 2, 'n_estimators': 3}\n",
      "55349.823431407705 {'max_features': 2, 'n_estimators': 10}\n",
      "52885.686276249005 {'max_features': 2, 'n_estimators': 30}\n",
      "60703.251712263926 {'max_features': 4, 'n_estimators': 3}\n",
      "53084.496186793316 {'max_features': 4, 'n_estimators': 10}\n",
      "50525.65787225738 {'max_features': 4, 'n_estimators': 30}\n",
      "59100.04082674389 {'max_features': 7, 'n_estimators': 3}\n",
      "52077.96002193393 {'max_features': 7, 'n_estimators': 10}\n",
      "50222.07859365378 {'max_features': 7, 'n_estimators': 30}\n",
      "58724.33048912281 {'max_features': 8, 'n_estimators': 3}\n",
      "52213.742205360984 {'max_features': 8, 'n_estimators': 10}\n",
      "49788.312235997924 {'max_features': 8, 'n_estimators': 30}\n",
      "61791.434979489386 {'bootstrap': False, 'max_features': 2, 'n_estimators': 3}\n",
      "54548.574308619616 {'bootstrap': False, 'max_features': 2, 'n_estimators': 10}\n",
      "60028.73818993537 {'bootstrap': False, 'max_features': 3, 'n_estimators': 3}\n",
      "52978.36528047031 {'bootstrap': False, 'max_features': 3, 'n_estimators': 10}\n",
      "59249.546051334866 {'bootstrap': False, 'max_features': 4, 'n_estimators': 3}\n",
      "51331.43202228503 {'bootstrap': False, 'max_features': 4, 'n_estimators': 10}\n"
     ]
    }
   ],
   "source": [
    "cvres = grid_search.cv_results_\n",
    "for mean_score, params in zip(cvres[\"mean_test_score\"], cvres[\"params\"]):\n",
    "    print(np.sqrt(-mean_score), params)"
   ]
  },
  {
   "cell_type": "code",
   "execution_count": 51,
   "metadata": {},
   "outputs": [
    {
     "data": {
      "text/plain": [
       "array([7.28043283e-02, 6.62842207e-02, 4.29214542e-02, 1.51224549e-02,\n",
       "       1.50414577e-02, 1.44181456e-02, 1.49881066e-02, 3.35341436e-01,\n",
       "       5.03479897e-02, 1.14084061e-01, 8.24483109e-02, 8.29641459e-03,\n",
       "       1.62534512e-01, 7.82329177e-05, 1.98868174e-03, 3.30019275e-03])"
      ]
     },
     "execution_count": 51,
     "metadata": {},
     "output_type": "execute_result"
    }
   ],
   "source": [
    "feature_importances = grid_search.best_estimator_.feature_importances_\n",
    "feature_importances"
   ]
  },
  {
   "cell_type": "code",
   "execution_count": 52,
   "metadata": {},
   "outputs": [
    {
     "data": {
      "text/plain": [
       "[(0.335341435800186, 'median_income'),\n",
       " (0.16253451226572285, 'INLAND'),\n",
       " (0.11408406134340053, 'pop_per_hhold'),\n",
       " (0.08244831089232156, 'bedrooms_per_room'),\n",
       " (0.07280432827881068, 'longitude'),\n",
       " (0.06628422065005256, 'latitude'),\n",
       " (0.05034798968729361, 'rooms_per_hhold'),\n",
       " (0.04292145424125698, 'housing_median_age'),\n",
       " (0.01512245486593989, 'total_rooms'),\n",
       " (0.01504145770859815, 'total_bedrooms'),\n",
       " (0.014988106644793562, 'households'),\n",
       " (0.014418145622228212, 'population'),\n",
       " (0.008296414594064706, '<1H OCEAN'),\n",
       " (0.0033001927485221396, 'NEAR OCEAN'),\n",
       " (0.0019886817390627125, 'NEAR BAY'),\n",
       " (7.823291774587664e-05, 'ISLAND')]"
      ]
     },
     "execution_count": 52,
     "metadata": {},
     "output_type": "execute_result"
    }
   ],
   "source": [
    "extra_attribs = [\"rooms_per_hhold\", \"pop_per_hhold\", \"bedrooms_per_room\"]\n",
    "cat_encoder = full_pipeline.named_transformers_[\"cat\"]\n",
    "cat_one_hot_attribs = list(cat_encoder.categories_[0])\n",
    "attributes = num_attribs + extra_attribs + cat_one_hot_attribs\n",
    "sorted(zip(feature_importances, attributes), reverse = True)"
   ]
  },
  {
   "cell_type": "code",
   "execution_count": 53,
   "metadata": {},
   "outputs": [],
   "source": [
    "final_model = grid_search.best_estimator_\n",
    "\n",
    "X_test = strat_test_set.drop(\"median_house_value\", axis=1)\n",
    "y_test = strat_test_set[\"median_house_value\"].copy()\n",
    "\n",
    "X_test_prepared = full_pipeline.transform(X_test)\n",
    "\n",
    "final_predictions = final_model.predict(X_test_prepared)\n",
    "\n",
    "final_mse = mean_squared_error(y_test, final_predictions)\n",
    "final_rmse = np.sqrt(final_mse)#=> evaluates to 47,730.2"
   ]
  },
  {
   "cell_type": "code",
   "execution_count": 56,
   "metadata": {},
   "outputs": [
    {
     "data": {
      "text/plain": [
       "47721.83377630067"
      ]
     },
     "execution_count": 56,
     "metadata": {},
     "output_type": "execute_result"
    }
   ],
   "source": [
    "final_rmse"
   ]
  },
  {
   "cell_type": "code",
   "execution_count": null,
   "metadata": {},
   "outputs": [],
   "source": []
  },
  {
   "cell_type": "code",
   "execution_count": null,
   "metadata": {},
   "outputs": [],
   "source": [
    "#Exercises"
   ]
  },
  {
   "cell_type": "code",
   "execution_count": null,
   "metadata": {},
   "outputs": [],
   "source": [
    "#Exercise 1"
   ]
  },
  {
   "cell_type": "code",
   "execution_count": 72,
   "metadata": {},
   "outputs": [
    {
     "name": "stdout",
     "output_type": "stream",
     "text": [
      "Fitting 5 folds for each of 17 candidates, totalling 85 fits\n"
     ]
    },
    {
     "name": "stderr",
     "output_type": "stream",
     "text": [
      "[Parallel(n_jobs=4)]: Using backend LokyBackend with 4 concurrent workers.\n",
      "[Parallel(n_jobs=4)]: Done  33 tasks      | elapsed:  1.8min\n",
      "[Parallel(n_jobs=4)]: Done  85 out of  85 | elapsed:  5.5min finished\n"
     ]
    },
    {
     "data": {
      "text/plain": [
       "GridSearchCV(cv=5, error_score='raise-deprecating',\n",
       "             estimator=SVR(C=1.0, cache_size=200, coef0=0.0, degree=3,\n",
       "                           epsilon=0.1, gamma='auto_deprecated', kernel='rbf',\n",
       "                           max_iter=-1, shrinking=True, tol=0.001,\n",
       "                           verbose=False),\n",
       "             iid='warn', n_jobs=4,\n",
       "             param_grid=[{'C': [2, 4, 6, 8], 'gamma': [1, 10],\n",
       "                          'kernel': ['linear']},\n",
       "                         {'C': [1, 2, 3], 'gamma': [0.01, 0.1, 0.3],\n",
       "                          'kernel': ['rbf']}],\n",
       "             pre_dispatch='2*n_jobs', refit=True, return_train_score=True,\n",
       "             scoring='neg_mean_squared_error', verbose=2)"
      ]
     },
     "execution_count": 72,
     "metadata": {},
     "output_type": "execute_result"
    }
   ],
   "source": [
    "from sklearn.svm import SVR\n",
    "\n",
    "param_grid = [\n",
    "    {'kernel': [\"linear\"], 'C': [2, 4, 6, 8] ,'gamma': [1, 10]},\n",
    "    {'kernel': [\"rbf\"], 'C': [1, 2, 3] ,'gamma': [.01 ,.1 ,.3]},\n",
    "]\n",
    "svm_reg = SVR()\n",
    "grid_search = GridSearchCV(svm_reg, param_grid, cv=5,\n",
    "                          scoring = 'neg_mean_squared_error',\n",
    "                          return_train_score = True,\n",
    "                          verbose=2, n_jobs=4)\n",
    "grid_search.fit(housing_prepared, housing_labels)"
   ]
  },
  {
   "cell_type": "code",
   "execution_count": null,
   "metadata": {},
   "outputs": [],
   "source": [
    "from sklearn.svm import SVR\n",
    "\n",
    "param_grid = [\n",
    "    {'kernel': [\"linear\"], 'C': [2, 4, 6, 8] ,'gamma': [1, 10]},\n",
    "    {'kernel': [\"rbf\"], 'C': [1, 2, 3] ,'gamma': [.01 ,.1 ,.3]},\n",
    "]\n",
    "svm_reg = SVR()\n",
    "grid_search = GridSearchCV(svm_reg, param_grid, cv=5,\n",
    "                          scoring = 'neg_mean_squared_error',\n",
    "                          return_train_score = True,\n",
    "                          verbose=2, n_jobs=4)\n",
    "grid_search.fit(housing_prepared, housing_labels)"
   ]
  },
  {
   "cell_type": "code",
   "execution_count": 73,
   "metadata": {},
   "outputs": [
    {
     "data": {
      "text/plain": [
       "87703.58607545428"
      ]
     },
     "execution_count": 73,
     "metadata": {},
     "output_type": "execute_result"
    }
   ],
   "source": [
    "negative_mse = grid_search.best_score_\n",
    "rmse = np.sqrt(-negative_mse)\n",
    "rmse"
   ]
  },
  {
   "cell_type": "code",
   "execution_count": 74,
   "metadata": {},
   "outputs": [
    {
     "data": {
      "text/plain": [
       "{'C': 8, 'gamma': 1, 'kernel': 'linear'}"
      ]
     },
     "execution_count": 74,
     "metadata": {},
     "output_type": "execute_result"
    }
   ],
   "source": [
    "grid_search.best_params_"
   ]
  },
  {
   "cell_type": "code",
   "execution_count": 96,
   "metadata": {},
   "outputs": [],
   "source": [
    "#Exercise 2"
   ]
  },
  {
   "cell_type": "code",
   "execution_count": 97,
   "metadata": {},
   "outputs": [
    {
     "name": "stdout",
     "output_type": "stream",
     "text": [
      "Fitting 3 folds for each of 50 candidates, totalling 150 fits\n"
     ]
    },
    {
     "name": "stderr",
     "output_type": "stream",
     "text": [
      "[Parallel(n_jobs=4)]: Using backend LokyBackend with 4 concurrent workers.\n",
      "[Parallel(n_jobs=4)]: Done  33 tasks      | elapsed:  1.5min\n",
      "[Parallel(n_jobs=4)]: Done 150 out of 150 | elapsed:  7.1min finished\n"
     ]
    },
    {
     "data": {
      "text/plain": [
       "RandomizedSearchCV(cv=3, error_score='raise-deprecating',\n",
       "                   estimator=SVR(C=1.0, cache_size=200, coef0=0.0, degree=3,\n",
       "                                 epsilon=0.1, gamma='auto_deprecated',\n",
       "                                 kernel='rbf', max_iter=-1, shrinking=True,\n",
       "                                 tol=0.001, verbose=False),\n",
       "                   iid='warn', n_iter=50, n_jobs=4,\n",
       "                   param_distributions={'C': <scipy.stats._distn_infrastructure.rv_frozen object at 0x1390643d0>,\n",
       "                                        'gamma': <scipy.stats._distn_infrastructure.rv_frozen object at 0x138e75c50>,\n",
       "                                        'kernel': ['linear', 'rbf']},\n",
       "                   pre_dispatch='2*n_jobs', random_state=42, refit=True,\n",
       "                   return_train_score=False, scoring='neg_mean_squared_error',\n",
       "                   verbose=2)"
      ]
     },
     "execution_count": 97,
     "metadata": {},
     "output_type": "execute_result"
    }
   ],
   "source": [
    "from sklearn.model_selection import RandomizedSearchCV\n",
    "from scipy.stats import expon, reciprocal\n",
    "\n",
    "# see https://docs.scipy.org/doc/scipy/reference/stats.html\n",
    "# for `expon()` and `reciprocal()` documentation and \n",
    "# more probability distribution functions.\n",
    "\n",
    "# Note: gamma is ignored when kernel is \"linear\"\n",
    "param_distribs = {\n",
    "        'kernel': ['linear', 'rbf'],\n",
    "        'C': reciprocal(20, 200000),\n",
    "        'gamma': expon(scale=1.0),\n",
    "    }\n",
    "\n",
    "svm_reg = SVR()\n",
    "rnd_search = RandomizedSearchCV(svm_reg, param_distributions=param_distribs,\n",
    "                                n_iter=50, cv=3, scoring='neg_mean_squared_error',\n",
    "                                verbose=2, n_jobs=4, random_state=42)\n",
    "rnd_search.fit(housing_prepared, housing_labels)\n",
    "\n"
   ]
  },
  {
   "cell_type": "code",
   "execution_count": 101,
   "metadata": {},
   "outputs": [
    {
     "data": {
      "text/plain": [
       "55317.01664015225"
      ]
     },
     "execution_count": 101,
     "metadata": {},
     "output_type": "execute_result"
    }
   ],
   "source": [
    "negative_mse = rnd_search.best_score_\n",
    "rmse = np.sqrt(-negative_mse)\n",
    "rmse"
   ]
  },
  {
   "cell_type": "code",
   "execution_count": 102,
   "metadata": {},
   "outputs": [
    {
     "data": {
      "text/plain": [
       "{'C': 157055.10989448498, 'gamma': 0.26497040005002437, 'kernel': 'rbf'}"
      ]
     },
     "execution_count": 102,
     "metadata": {},
     "output_type": "execute_result"
    }
   ],
   "source": [
    "rnd_search.best_params_"
   ]
  },
  {
   "cell_type": "code",
   "execution_count": 103,
   "metadata": {},
   "outputs": [
    {
     "data": {
      "image/png": "[encoded data removed]",
      "text/plain": [
       "<Figure size 720x288 with 2 Axes>"
      ]
     },
     "metadata": {
      "needs_background": "light"
     },
     "output_type": "display_data"
    }
   ],
   "source": [
    "expon_distrib = expon(scale=1.)\n",
    "samples = expon_distrib.rvs(10000, random_state=42)\n",
    "plt.figure(figsize=(10, 4))\n",
    "plt.subplot(121)\n",
    "plt.title(\"Exponential distribution (scale=1.0)\")\n",
    "plt.hist(samples, bins=50)\n",
    "plt.subplot(122)\n",
    "plt.title(\"Log of this distribution\")\n",
    "plt.hist(np.log(samples), bins=50)\n",
    "plt.show()"
   ]
  },
  {
   "cell_type": "code",
   "execution_count": 105,
   "metadata": {},
   "outputs": [
    {
     "data": {
      "image/png": "[encoded data removed]",
      "text/plain": [
       "<Figure size 720x288 with 2 Axes>"
      ]
     },
     "metadata": {
      "needs_background": "light"
     },
     "output_type": "display_data"
    }
   ],
   "source": [
    "reciprocal_distrib = reciprocal(20, 200000)\n",
    "samples = reciprocal_distrib.rvs(10000, random_state=42)\n",
    "plt.figure(figsize=(10, 4))\n",
    "plt.subplot(121)\n",
    "plt.title(\"Reciprocal distribution (scale=1.0)\")\n",
    "plt.hist(samples, bins=50)\n",
    "plt.subplot(122)\n",
    "plt.title(\"Log of this distribution\")\n",
    "plt.hist(np.log(samples), bins=50)\n",
    "plt.show()"
   ]
  },
  {
   "cell_type": "code",
   "execution_count": null,
   "metadata": {},
   "outputs": [],
   "source": []
  },
  {
   "cell_type": "code",
   "execution_count": 109,
   "metadata": {},
   "outputs": [
    {
     "data": {
      "text/plain": [
       "array([12.32379107,  5.14504296,  2.28831368,  1.54222196, 35.55252262,\n",
       "        1.35607256,  3.45956426,  3.46979836, 29.54141662, 47.98834729])"
      ]
     },
     "execution_count": 109,
     "metadata": {},
     "output_type": "execute_result"
    }
   ],
   "source": [
    "reciprocal.rvs(1, 60, size=10)"
   ]
  },
  {
   "cell_type": "code",
   "execution_count": 110,
   "metadata": {},
   "outputs": [
    {
     "data": {
      "text/plain": [
       "array([1.08354708, 1.02520886, 1.01937454, 1.01857279, 1.0796876 ,\n",
       "       1.065143  , 1.08799844, 1.06297475, 1.08881207, 1.08896417])"
      ]
     },
     "execution_count": 110,
     "metadata": {},
     "output_type": "execute_result"
    }
   ],
   "source": [
    "reciprocal.rvs(1,1.1 ,size=10)"
   ]
  },
  {
   "cell_type": "code",
   "execution_count": 117,
   "metadata": {},
   "outputs": [
    {
     "data": {
      "image/png": "[encoded data removed]",
      "text/plain": [
       "<Figure size 432x288 with 1 Axes>"
      ]
     },
     "metadata": {
      "needs_background": "light"
     },
     "output_type": "display_data"
    }
   ],
   "source": [
    "from scipy.stats import reciprocal\n",
    "import matplotlib.pyplot as plt\n",
    "fig, ax = plt.subplots(1, 1)\n",
    "\n",
    "a, b = 0.00623, 1.01\n",
    "\n",
    "mean, var, skew, kurt = reciprocal.stats(a, b, moments='mvsk')\n",
    "\n",
    "x = np.linspace(reciprocal.ppf(0.01, a, b),\n",
    "                reciprocal.ppf(0.99, a, b), 100)\n",
    "ax.plot(x, reciprocal.pdf(x, a, b),\n",
    "       'r-', lw=5, alpha=0.6, label='reciprocal pdf')\n",
    "\n",
    "rv = reciprocal(a, b)\n",
    "ax.plot(x, rv.pdf(x), 'k-', lw=2, label='frozen pdf')\n",
    "\n",
    "r = reciprocal.rvs(a, b, size=1000)\n",
    "\n",
    "ax.hist(r, density=True, histtype='stepfilled', alpha=0.2)\n",
    "ax.legend(loc='best', frameon=False)\n",
    "plt.show()"
   ]
  },
  {
   "cell_type": "code",
   "execution_count": 122,
   "metadata": {},
   "outputs": [
    {
     "data": {
      "text/plain": [
       "True"
      ]
     },
     "execution_count": 122,
     "metadata": {},
     "output_type": "execute_result"
    }
   ],
   "source": [
    "vals = reciprocal.ppf([0.001, 0.5, 0.999], a, b)\n",
    "np.allclose([0.001, 0.5, 0.999], reciprocal.cdf(vals, a, b))"
   ]
  },
  {
   "cell_type": "code",
   "execution_count": 119,
   "metadata": {},
   "outputs": [
    {
     "data": {
      "text/plain": [
       "array([0.00626178, 0.07932402, 1.00487384])"
      ]
     },
     "execution_count": 119,
     "metadata": {},
     "output_type": "execute_result"
    }
   ],
   "source": [
    "vals"
   ]
  },
  {
   "cell_type": "code",
   "execution_count": 120,
   "metadata": {},
   "outputs": [
    {
     "data": {
      "text/plain": [
       "<function numpy.allclose(a, b, rtol=1e-05, atol=1e-08, equal_nan=False)>"
      ]
     },
     "execution_count": 120,
     "metadata": {},
     "output_type": "execute_result"
    }
   ],
   "source": [
    "np.allclose"
   ]
  },
  {
   "cell_type": "code",
   "execution_count": null,
   "metadata": {},
   "outputs": [],
   "source": [
    "#Exercise 3"
   ]
  },
  {
   "cell_type": "code",
   "execution_count": 123,
   "metadata": {},
   "outputs": [],
   "source": [
    "from sklearn.base import BaseEstimator, TransformerMixin\n",
    "\n",
    "def indices_of_top_k(arr, k):\n",
    "    return np.sort(np.argpartition(np.array(arr), -k)[-k:])\n",
    "\n",
    "class TopFeatureSelector(BaseEstimator, TransformerMixin):\n",
    "    def __init__(self, feature_importances, k):\n",
    "        self.feature_importances = feature_importances\n",
    "        self.k = k\n",
    "    def fit(self, X, y=None):\n",
    "        self.feature_indices_ = indices_of_top_k(self.feature_importances, self.k)\n",
    "        return self\n",
    "    def transform(self, X):\n",
    "        return X[:, self.feature_indices_]"
   ]
  },
  {
   "cell_type": "code",
   "execution_count": 132,
   "metadata": {
    "collapsed": true
   },
   "outputs": [
    {
     "data": {
      "text/plain": [
       "\"\\nNote: this feature selector assumes that you have already computed \\nthe feature importances somehow (for example using a RandomForestRegressor). \\nYou may be tempted to compute them directly in the TopFeatureSelector's fit() method, \\nhowever this would likely slow down grid/randomized search since the feature \\nimportances would have to be computed for every hyperparameter combination \\n(unless you implement some sort of cache).\\n\""
      ]
     },
     "execution_count": 132,
     "metadata": {},
     "output_type": "execute_result"
    }
   ],
   "source": [
    "'''\n",
    "Note: this feature selector assumes that you have already computed \n",
    "the feature importances somehow (for example using a RandomForestRegressor). \n",
    "You may be tempted to compute them directly in the TopFeatureSelector's fit() method, \n",
    "however this would likely slow down grid/randomized search since the feature \n",
    "importances would have to be computed for every hyperparameter combination \n",
    "(unless you implement some sort of cache).\n",
    "'''"
   ]
  },
  {
   "cell_type": "code",
   "execution_count": 125,
   "metadata": {},
   "outputs": [],
   "source": [
    "k=5"
   ]
  },
  {
   "cell_type": "code",
   "execution_count": 126,
   "metadata": {},
   "outputs": [],
   "source": [
    "preparation_and_feature_selection_pipeline = Pipeline([\n",
    "    ('preparation', full_pipeline),\n",
    "    ('feature_selection', TopFeatureSelector(feature_importances, k))\n",
    "])"
   ]
  },
  {
   "cell_type": "code",
   "execution_count": 130,
   "metadata": {},
   "outputs": [
    {
     "data": {
      "text/plain": [
       "array([ 0,  7,  9, 10, 12])"
      ]
     },
     "execution_count": 130,
     "metadata": {},
     "output_type": "execute_result"
    }
   ],
   "source": [
    "top_k_feature_indices = indices_of_top_k(feature_importances, k)\n",
    "top_k_feature_indices"
   ]
  },
  {
   "cell_type": "code",
   "execution_count": 127,
   "metadata": {},
   "outputs": [],
   "source": [
    "housing_prepared_top_k_features = preparation_and_feature_selection_pipeline.fit_transform(housing)"
   ]
  },
  {
   "cell_type": "code",
   "execution_count": 128,
   "metadata": {},
   "outputs": [
    {
     "data": {
      "text/plain": [
       "array([[-1.15604281, -0.61493744, -0.08649871,  0.15531753,  0.        ],\n",
       "       [-1.17602483,  1.33645936, -0.03353391, -0.83628902,  0.        ],\n",
       "       [ 1.18684903, -0.5320456 , -0.09240499,  0.4222004 ,  0.        ],\n",
       "       [-0.01706767, -1.04556555,  0.08973561, -0.19645314,  1.        ],\n",
       "       [ 0.49247384, -0.44143679, -0.00419445,  0.2699277 ,  0.        ]])"
      ]
     },
     "execution_count": 128,
     "metadata": {},
     "output_type": "execute_result"
    }
   ],
   "source": [
    "housing_prepared_top_k_features[0:k]"
   ]
  },
  {
   "cell_type": "code",
   "execution_count": 131,
   "metadata": {},
   "outputs": [
    {
     "data": {
      "text/plain": [
       "array([[-1.15604281, -0.61493744, -0.08649871,  0.15531753,  0.        ],\n",
       "       [-1.17602483,  1.33645936, -0.03353391, -0.83628902,  0.        ],\n",
       "       [ 1.18684903, -0.5320456 , -0.09240499,  0.4222004 ,  0.        ],\n",
       "       [-0.01706767, -1.04556555,  0.08973561, -0.19645314,  1.        ],\n",
       "       [ 0.49247384, -0.44143679, -0.00419445,  0.2699277 ,  0.        ]])"
      ]
     },
     "execution_count": 131,
     "metadata": {},
     "output_type": "execute_result"
    }
   ],
   "source": [
    "housing_prepared[0:k, top_k_feature_indices]"
   ]
  },
  {
   "cell_type": "code",
   "execution_count": null,
   "metadata": {},
   "outputs": [],
   "source": [
    "#Exercise 4"
   ]
  },
  {
   "cell_type": "code",
   "execution_count": 133,
   "metadata": {},
   "outputs": [],
   "source": [
    "prepare_select_and_predict_pipeline = Pipeline([\n",
    "    ('preparation', full_pipeline),\n",
    "    ('feature_selection', TopFeatureSelector(feature_importances, k)), #passes an array\n",
    "        #whose indices match up to \"attributes\" array of features\n",
    "    ('svm_reg', SVR(**rnd_search.best_params_)) #passes a dict\n",
    "])"
   ]
  },
  {
   "cell_type": "code",
   "execution_count": 134,
   "metadata": {},
   "outputs": [
    {
     "data": {
      "text/plain": [
       "Pipeline(memory=None,\n",
       "         steps=[('preparation',\n",
       "                 ColumnTransformer(n_jobs=None, remainder='drop',\n",
       "                                   sparse_threshold=0.3,\n",
       "                                   transformer_weights=None,\n",
       "                                   transformers=[('num',\n",
       "                                                  Pipeline(memory=None,\n",
       "                                                           steps=[('imputer',\n",
       "                                                                   SimpleImputer(add_indicator=False,\n",
       "                                                                                 copy=True,\n",
       "                                                                                 fill_value=None,\n",
       "                                                                                 missing_values=nan,\n",
       "                                                                                 strategy='median',\n",
       "                                                                                 verbose=0)),\n",
       "                                                                  ('attribs_adder',\n",
       "                                                                   CombinedAttributesAdder(add_...\n",
       "       1.50414577e-02, 1.44181456e-02, 1.49881066e-02, 3.35341436e-01,\n",
       "       5.03479897e-02, 1.14084061e-01, 8.24483109e-02, 8.29641459e-03,\n",
       "       1.62534512e-01, 7.82329177e-05, 1.98868174e-03, 3.30019275e-03]),\n",
       "                                    k=5)),\n",
       "                ('svm_reg',\n",
       "                 SVR(C=157055.10989448498, cache_size=200, coef0=0.0, degree=3,\n",
       "                     epsilon=0.1, gamma=0.26497040005002437, kernel='rbf',\n",
       "                     max_iter=-1, shrinking=True, tol=0.001, verbose=False))],\n",
       "         verbose=False)"
      ]
     },
     "execution_count": 134,
     "metadata": {},
     "output_type": "execute_result"
    }
   ],
   "source": [
    "prepare_select_and_predict_pipeline.fit(housing, housing_labels)"
   ]
  },
  {
   "cell_type": "code",
   "execution_count": 135,
   "metadata": {},
   "outputs": [],
   "source": [
    "#Exercise 5"
   ]
  },
  {
   "cell_type": "code",
   "execution_count": 294,
   "metadata": {},
   "outputs": [
    {
     "name": "stdout",
     "output_type": "stream",
     "text": [
      "Fitting 5 folds for each of 48 candidates, totalling 240 fits\n"
     ]
    },
    {
     "name": "stderr",
     "output_type": "stream",
     "text": [
      "[Parallel(n_jobs=4)]: Using backend LokyBackend with 4 concurrent workers.\n",
      "[Parallel(n_jobs=4)]: Done  33 tasks      | elapsed:  1.1min\n",
      "[Parallel(n_jobs=4)]: Done 154 tasks      | elapsed:  8.4min\n",
      "[Parallel(n_jobs=4)]: Done 240 out of 240 | elapsed: 18.8min finished\n"
     ]
    },
    {
     "data": {
      "text/plain": [
       "GridSearchCV(cv=5, error_score='raise-deprecating',\n",
       "             estimator=Pipeline(memory=None,\n",
       "                                steps=[('preparation',\n",
       "                                        ColumnTransformer(n_jobs=None,\n",
       "                                                          remainder='drop',\n",
       "                                                          sparse_threshold=0.3,\n",
       "                                                          transformer_weights=None,\n",
       "                                                          transformers=[('num',\n",
       "                                                                         Pipeline(memory=None,\n",
       "                                                                                  steps=[('imputer',\n",
       "                                                                                          SimpleImputer(add_indicator=False,\n",
       "                                                                                                        copy=True,\n",
       "                                                                                                        fill_value=None,\n",
       "                                                                                                        missing_values=nan,\n",
       "                                                                                                        strategy='media...\n",
       "                                            kernel='rbf', max_iter=-1,\n",
       "                                            shrinking=True, tol=0.001,\n",
       "                                            verbose=False))],\n",
       "                                verbose=False),\n",
       "             iid='warn', n_jobs=4,\n",
       "             param_grid=[{'feature_selection__k': [1, 2, 3, 4, 5, 6, 7, 8, 9,\n",
       "                                                   10, 11, 12, 13, 14, 15, 16],\n",
       "                          'preparation__num__imputer__strategy': ['mean',\n",
       "                                                                  'median',\n",
       "                                                                  'most_frequent']}],\n",
       "             pre_dispatch='2*n_jobs', refit=True, return_train_score=False,\n",
       "             scoring='neg_mean_squared_error', verbose=2)"
      ]
     },
     "execution_count": 294,
     "metadata": {},
     "output_type": "execute_result"
    }
   ],
   "source": [
    "param_grid = [{\n",
    "    'preparation__num__imputer__strategy': ['mean', 'median', 'most_frequent'],\n",
    "    'feature_selection__k': list(range(1, len(feature_importances) + 1))\n",
    "}]\n",
    "\n",
    "grid_search_prep = GridSearchCV(prepare_select_and_predict_pipeline, param_grid, cv=5,\n",
    "                                scoring='neg_mean_squared_error', verbose=2, n_jobs=4)\n",
    "grid_search_prep.fit(housing, housing_labels)"
   ]
  },
  {
   "cell_type": "code",
   "execution_count": null,
   "metadata": {},
   "outputs": [],
   "source": [
    "grid_search_prep.best_params_"
   ]
  },
  {
   "cell_type": "code",
   "execution_count": null,
   "metadata": {},
   "outputs": [],
   "source": []
  },
  {
   "cell_type": "code",
   "execution_count": null,
   "metadata": {},
   "outputs": [],
   "source": []
  },
  {
   "cell_type": "code",
   "execution_count": 227,
   "metadata": {},
   "outputs": [],
   "source": [
    "tx = np.array([3, 9 ,4, 2, 7 ,1 ,5 ,6 ,7])"
   ]
  },
  {
   "cell_type": "code",
   "execution_count": 290,
   "metadata": {},
   "outputs": [],
   "source": [
    "tk = (-5 ,7)"
   ]
  },
  {
   "cell_type": "code",
   "execution_count": 291,
   "metadata": {},
   "outputs": [
    {
     "data": {
      "text/plain": [
       "array([7, 6])"
      ]
     },
     "execution_count": 291,
     "metadata": {},
     "output_type": "execute_result"
    }
   ],
   "source": [
    "tx[list(tk)]"
   ]
  },
  {
   "cell_type": "code",
   "execution_count": 292,
   "metadata": {},
   "outputs": [
    {
     "data": {
      "text/plain": [
       "array([3, 5, 0, 2, 6, 7, 4, 8, 1])"
      ]
     },
     "execution_count": 292,
     "metadata": {},
     "output_type": "execute_result"
    }
   ],
   "source": [
    "ty = np.argpartition(tx, tk)\n",
    "ty"
   ]
  },
  {
   "cell_type": "code",
   "execution_count": 293,
   "metadata": {},
   "outputs": [
    {
     "data": {
      "text/plain": [
       "array([2, 1, 3, 4, 5, 6, 7, 7, 9])"
      ]
     },
     "execution_count": 293,
     "metadata": {},
     "output_type": "execute_result"
    }
   ],
   "source": [
    "tx[list(ty)]"
   ]
  },
  {
   "cell_type": "code",
   "execution_count": null,
   "metadata": {},
   "outputs": [],
   "source": []
  },
  {
   "cell_type": "code",
   "execution_count": 159,
   "metadata": {},
   "outputs": [],
   "source": [
    "np.sort(np.argpartition(np.array(tx), -k)[-k:])"
   ]
  },
  {
   "cell_type": "code",
   "execution_count": null,
   "metadata": {},
   "outputs": [],
   "source": []
  }
 ],
 "metadata": {
  "kernelspec": {
   "display_name": "Python 3",
   "language": "python",
   "name": "python3"
  },
  "language_info": {
   "codemirror_mode": {
    "name": "ipython",
    "version": 3
   },
   "file_extension": ".py",
   "mimetype": "text/x-python",
   "name": "python",
   "nbconvert_exporter": "python",
   "pygments_lexer": "ipython3",
   "version": "3.7.4"
  }
 },
 "nbformat": 4,
 "nbformat_minor": 2
}
